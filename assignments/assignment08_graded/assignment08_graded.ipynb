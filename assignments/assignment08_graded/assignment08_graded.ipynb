{
 "cells": [
  {
   "cell_type": "markdown",
   "metadata": {},
   "source": [
    "# Exercise 8"
   ]
  },
  {
   "cell_type": "markdown",
   "metadata": {
    "deletable": false,
    "editable": false,
    "nbgrader": {
     "cell_type": "markdown",
     "checksum": "d48478d9e69f858fff258434392c0ea5",
     "grade": false,
     "grade_id": "cell-f66de17fc6068da5",
     "locked": true,
     "schema_version": 3,
     "solution": false
    }
   },
   "source": [
    "#### Vorgaben\n",
    "\n",
    "Ihr dürft für die Lösung der Übung zusammenarbeiten, so lange sich eure **Zusammenarbeit auf konzeptionelle und algorithmische Fragestellungen beschränkt**. Bei kopiertem Code oder Text (von Mitstudierenden oder dem Internet) werden alle Lösungen der beteiligten Parteien mit 0 Punkten bewertet. Dazu werden alle Lösungen manuell und automatisiert auf Kopien untersucht.\n",
    "\n",
    "#### Abgabe\n",
    "\n",
    "Arbeite auf einem eigenen Fork des Repositories `https://gitlab.fhnw.ch/ml/courses/dsp/dsp_hs2021`, zu welchem du @michael.graber und @florian.schaerer als *Maintainer* hinzufügst. Committe regelmässig. Als Abgabe gilt dein **letzter Commit bis Sonntag, 28. November 2021, 23:59:59 Uhr**."
   ]
  },
  {
   "cell_type": "markdown",
   "metadata": {
    "deletable": false,
    "editable": false,
    "nbgrader": {
     "cell_type": "markdown",
     "checksum": "e983db4f4103543a4c7b2e2ea5412869",
     "grade": false,
     "grade_id": "cell-decacecdd1529d0d",
     "locked": true,
     "schema_version": 3,
     "solution": false
    }
   },
   "source": [
    "#### Hinweise\n",
    "- Der *Code* muss im Container zum Repo von Anfang bis Ende durchlaufen. Es wird nur funktionsfähiger Code bewertet.  \n",
    "- Beschrifte sämtliche Achsen (Bezeichnung und Einheit wenn möglich).\n",
    "- Ergänze den Plot mit zusätzlicher Beschriftung falls dies notwendig ist zum Verständnis des Plots.\n",
    "- Diskutiere jeden Plot und beginne dabei mit einer Beschreibung dessen was der Plot zeigt.\n",
    "- Versuche eine kompakte und performante Implementierung zu finden. Vollständige Punktzahl erreichst du bloss mit performantem *Code*."
   ]
  },
  {
   "cell_type": "markdown",
   "metadata": {
    "deletable": false,
    "editable": false,
    "nbgrader": {
     "cell_type": "markdown",
     "checksum": "db54dcdd69545a534b167946700310fd",
     "grade": false,
     "grade_id": "cell-d0b1658323be9aa7",
     "locked": true,
     "schema_version": 3,
     "solution": false
    }
   },
   "source": [
    "### Aufgabe 1 (8 Punkte)\n",
    "\n",
    "Lade das Bild `Turing.jpg` aus dem Verzeichnis dieses Übungsblatts in ein Numpy Array.\n",
    "\n",
    "- Wie viel Speicherplatz braucht das Array?\n",
    "- Was ist seine Form?\n",
    "- Was ist seine Dimensionalität?  \n",
    "- Wie viel Speicherplatz braucht ein einzelnes Elmement?\n",
    "- Wie viele Elemente hat das Array?\n",
    "\n",
    "Vergleiche Anzahl Elemente und benötigter Speicherplatz.\n",
    "Machen diese Informationen Sinn zusammen? Begründe."
   ]
  },
  {
   "cell_type": "code",
   "execution_count": null,
   "metadata": {
    "deletable": false,
    "nbgrader": {
     "cell_type": "code",
     "checksum": "620a76a771fb0501c7bf9f8780335e2d",
     "grade": true,
     "grade_id": "cell-8d52292df9aef5f4",
     "locked": false,
     "points": 7,
     "schema_version": 3,
     "solution": true
    }
   },
   "outputs": [],
   "source": [
    "import matplotlib.pyplot as plt\n",
    "import numpy as np\n",
    "%matplotlib inline\n",
    "\n",
    "plt.style.use('seaborn-muted')\n",
    "\n",
    "# YOUR CODE HERE\n",
    "raise NotImplementedError()"
   ]
  },
  {
   "cell_type": "markdown",
   "metadata": {
    "deletable": false,
    "nbgrader": {
     "cell_type": "markdown",
     "checksum": "0d04654e9782d90561c39ba3767f6e09",
     "grade": true,
     "grade_id": "cell-e0d37b5ee682f4e5",
     "locked": false,
     "points": 1,
     "schema_version": 3,
     "solution": true
    }
   },
   "source": [
    "YOUR ANSWER HERE"
   ]
  },
  {
   "cell_type": "markdown",
   "metadata": {
    "deletable": false,
    "editable": false,
    "nbgrader": {
     "cell_type": "markdown",
     "checksum": "d6a6150afc9441e107d3d18b6f75fc97",
     "grade": false,
     "grade_id": "cell-7c5978a06dd1f236",
     "locked": true,
     "schema_version": 3,
     "solution": false
    }
   },
   "source": [
    "### Aufgabe 2 (4 Punkte)\n",
    "\n",
    "Zeichne das Bild. Verwende Graustufen zur Kodierung der Pixelwerte.\n",
    "\n",
    "Kennst du Alan Turing? Wer war er? Nenne eine Errungenschaft oder eine Arbeit für die er bekannt ist (1-2 Sätze genügen)."
   ]
  },
  {
   "cell_type": "code",
   "execution_count": null,
   "metadata": {
    "deletable": false,
    "nbgrader": {
     "cell_type": "code",
     "checksum": "d228886a466525fdb8321215da3bb2ac",
     "grade": true,
     "grade_id": "cell-2ade85813064a162",
     "locked": false,
     "points": 2,
     "schema_version": 3,
     "solution": true
    }
   },
   "outputs": [],
   "source": [
    "# YOUR CODE HERE\n",
    "raise NotImplementedError()\n"
   ]
  },
  {
   "cell_type": "markdown",
   "metadata": {
    "deletable": false,
    "nbgrader": {
     "cell_type": "markdown",
     "checksum": "e0a782de32374dbed51a746ee0527ffc",
     "grade": true,
     "grade_id": "cell-1e1d18789820a49d",
     "locked": false,
     "points": 2,
     "schema_version": 3,
     "solution": true,
     "task": false
    }
   },
   "source": [
    "YOUR ANSWER HERE"
   ]
  },
  {
   "cell_type": "markdown",
   "metadata": {
    "deletable": false,
    "editable": false,
    "nbgrader": {
     "cell_type": "markdown",
     "checksum": "bc704759335dd025d5d098b221fc81bc",
     "grade": false,
     "grade_id": "cell-6b2b46ef54aaf2dd",
     "locked": true,
     "schema_version": 3,
     "solution": false
    }
   },
   "source": [
    "### Aufgabe 3 (2 Punkte)\n",
    "\n",
    "Flippe das Bild an der Diagonalen von oben links bis unten rechts und zeichne es erneut."
   ]
  },
  {
   "cell_type": "code",
   "execution_count": null,
   "metadata": {
    "deletable": false,
    "nbgrader": {
     "cell_type": "code",
     "checksum": "99a9498a5f8585b2d1780bcd70f106de",
     "grade": true,
     "grade_id": "cell-92d0b2f8ba705751",
     "locked": false,
     "points": 2,
     "schema_version": 3,
     "solution": true
    }
   },
   "outputs": [],
   "source": [
    "# YOUR CODE HERE\n",
    "raise NotImplementedError()"
   ]
  },
  {
   "cell_type": "markdown",
   "metadata": {
    "deletable": false,
    "editable": false,
    "nbgrader": {
     "cell_type": "markdown",
     "checksum": "696ea821b7232a4ecd5308d5a71ac4a5",
     "grade": false,
     "grade_id": "cell-e53859b7ca0fb041",
     "locked": true,
     "schema_version": 3,
     "solution": false
    }
   },
   "source": [
    "### Aufgabe 4 (6 Punkte)\n",
    "\n",
    "Zeichne ein Histogramm der Pixelwerte.  \n",
    "\n",
    "Zwischen welchen Werten streuen die Pixelwerte?  \n",
    "Was ist eine sinnvoll gewählte Anzahl *Bins*? Begründe. \n",
    "\n",
    "Zeichne Median und Mittelwert mit ins Histogramm als vertikale Linien und beschrifte diese."
   ]
  },
  {
   "cell_type": "code",
   "execution_count": null,
   "metadata": {
    "deletable": false,
    "nbgrader": {
     "cell_type": "code",
     "checksum": "d597dea9a7930a48bf56e51aff403150",
     "grade": true,
     "grade_id": "cell-dee23eca85f97560",
     "locked": false,
     "points": 4,
     "schema_version": 3,
     "solution": true
    }
   },
   "outputs": [],
   "source": [
    "import numpy as np\n",
    "\n",
    "# YOUR CODE HERE\n",
    "raise NotImplementedError()"
   ]
  },
  {
   "cell_type": "markdown",
   "metadata": {
    "deletable": false,
    "nbgrader": {
     "cell_type": "markdown",
     "checksum": "097ce5a33ce90d5181c30c9100b41520",
     "grade": true,
     "grade_id": "cell-0c1b1b9f1abf008c",
     "locked": false,
     "points": 2,
     "schema_version": 3,
     "solution": true
    }
   },
   "source": [
    "YOUR ANSWER HERE"
   ]
  },
  {
   "cell_type": "markdown",
   "metadata": {
    "deletable": false,
    "editable": false,
    "nbgrader": {
     "cell_type": "markdown",
     "checksum": "ee3d6bec9a24a7dd3099fc6b84d1a5e9",
     "grade": false,
     "grade_id": "cell-f20bd7bcee2e5cef",
     "locked": true,
     "schema_version": 3,
     "solution": false
    }
   },
   "source": [
    "### Aufgabe 5 (6 Punkte)\n",
    "\n",
    "Nun 'Binarisieren' wir unser Originalbild: Berechne zwei neue Bilder, welche jeweils sämtliche Werte kleiner-gleich dem Mittelwert, bzw. dem Median, gleich 0 gesetzt haben, alle Werte darüber gleich 1.  \n",
    "\n",
    "Zeichne beide Bilder.  \n",
    "\n",
    "Unterscheiden sich die Bilder stark? Wieso?"
   ]
  },
  {
   "cell_type": "code",
   "execution_count": null,
   "metadata": {
    "deletable": false,
    "nbgrader": {
     "cell_type": "code",
     "checksum": "68c6af97623dd5b376a72cf3b627c131",
     "grade": true,
     "grade_id": "cell-1a68d8671eeae9f2",
     "locked": false,
     "points": 4,
     "schema_version": 3,
     "solution": true
    }
   },
   "outputs": [],
   "source": [
    "# YOUR CODE HERE\n",
    "raise NotImplementedError()"
   ]
  },
  {
   "cell_type": "markdown",
   "metadata": {
    "deletable": false,
    "nbgrader": {
     "cell_type": "markdown",
     "checksum": "18f79ce5df4924c00966666a56b84981",
     "grade": true,
     "grade_id": "cell-72395b2497039a25",
     "locked": false,
     "points": 2,
     "schema_version": 3,
     "solution": true,
     "task": false
    }
   },
   "source": [
    "YOUR ANSWER HERE"
   ]
  },
  {
   "cell_type": "markdown",
   "metadata": {
    "deletable": false,
    "editable": false,
    "nbgrader": {
     "cell_type": "markdown",
     "checksum": "bffcb1aab70195d0c5fe85a2a7008ce2",
     "grade": false,
     "grade_id": "cell-9f1b690675dcdfc0",
     "locked": true,
     "schema_version": 3,
     "solution": false
    }
   },
   "source": [
    "### Aufgabe 6 (8 Punkte)\n",
    "\n",
    "Berechne und zeichne für das Originalbild das normalisierte Histogramm $p(v)$, die normalisierte kumulative Verteilung der Pixelwerte $P(v)$ und den kumulativen Mittelwert $m(v)$ der Pixelwerte. Verwende *Bins* der Grösse 1 zwischen 0 und (inklusive) maximalem Bildwert. Die Funktionswerte für das normalisierte Histogramm entsprechen dabei dem Anteil Werte in einem *Bin*. Die normalisierte kumulative Verteilung entspricht dem Anteil der Pixelwerte welche den Wert $v$ oder kleiner annehmen:\n",
    "\n",
    "\\begin{equation}\n",
    "P(v) = \\sum_{i=0}^v p(i)\n",
    "\\end{equation}\n",
    "\n",
    "Der kumulative Mittelwert ist definiert als  \n",
    "\n",
    "\\begin{equation}\n",
    "m(v) = \\sum_{i=0}^{v} i\\cdot p(i)\n",
    "\\end{equation}  \n",
    "\n",
    "Zeichne die Funktionen untereinander als Subplots in eine Figure, als Stufenfunktionen mit der `matplotlib`-Funktion `step` und berechne die kumulative Summen mit `np.cumsum`.  \n",
    "\n",
    "Was ist der grösste Wert der kumulativen Mittelwert-Funktion? Was entspricht er? Erkläre."
   ]
  },
  {
   "cell_type": "code",
   "execution_count": null,
   "metadata": {
    "deletable": false,
    "nbgrader": {
     "cell_type": "code",
     "checksum": "744081169c89ae5e9a5f3ec72586f4fc",
     "grade": true,
     "grade_id": "cell-d141cda1a37c8528",
     "locked": false,
     "points": 6,
     "schema_version": 3,
     "solution": true
    }
   },
   "outputs": [],
   "source": [
    "# YOUR CODE HERE\n",
    "raise NotImplementedError()\n"
   ]
  },
  {
   "cell_type": "markdown",
   "metadata": {
    "deletable": false,
    "nbgrader": {
     "cell_type": "markdown",
     "checksum": "c4b18023efe2cea086cd05ef2e30b32f",
     "grade": true,
     "grade_id": "cell-1e00ff3d0f4a9f0b",
     "locked": false,
     "points": 2,
     "schema_version": 3,
     "solution": true
    }
   },
   "source": [
    "YOUR ANSWER HERE"
   ]
  },
  {
   "cell_type": "markdown",
   "metadata": {
    "deletable": false,
    "editable": false,
    "nbgrader": {
     "cell_type": "markdown",
     "checksum": "dcfa4fcbd2c63395859956d34f4e4731",
     "grade": false,
     "grade_id": "cell-fc822830c1242f9a",
     "locked": true,
     "schema_version": 3,
     "solution": false
    }
   },
   "source": [
    "### Aufgabe 7  (6 Punkte)\n",
    "\n",
    "*Otsu's Method* (Otsu, 1979) ist ein Algorithmus zur Berechnung eines Schwellwerts für die Binarisierung von Bildern. Ziel von *Otsu's Method* ist es, die Varianz zwischen den Werten der beiden Pixelgruppen zu maximieren.  \n",
    "\n",
    "Zur Umsetzung des Algorithmus haben wir in Aufgabe 6 schon einiges vorbereitet. Wir brauchen nämlich $p(v), P(v)$ und $m(v)$. Mit ihrer Hilfe können wir die Varianz zwischen den Pixelwerten aus den beiden Wertebereichen für einen beliebigen Schwellwert $t$ berechnen.\n",
    "\n",
    "$$\n",
    "\\begin{equation}\n",
    "\\sigma^{2}(t) = \\frac{(max(m(\\cdot))P(t) - m(t))^2}{P(t)(1-P(t))}\n",
    "\\end{equation} \n",
    "$$\n",
    "\n",
    "Berechnen Sie $\\sigma^2(t)$ für alle möglichen $t$ und zeichnen Sie die Funktion.  \n",
    "\n",
    "*Otsu's* Schwellwert ist bei jenem $t$ zu wählen, für welches $\\sigma^2(t)$ maximal ist (sollte das Maximum nicht eindeutig sein, so wird über die verschiedenen Kandidaten gemittelt).  \n",
    "\n",
    "\n",
    "Schreiben Sie nun eine Funktion `otsu_threshold(image)`, welche den Otsu Schwellwert für ein beliebiges Graustufenbild berechnet.\n",
    "\n",
    "Was ist *Otsu's* Schwellwert für unser Originalbild? "
   ]
  },
  {
   "cell_type": "code",
   "execution_count": null,
   "metadata": {
    "deletable": false,
    "nbgrader": {
     "cell_type": "code",
     "checksum": "634d2a0d1dc2ac41c85e35d449c51507",
     "grade": true,
     "grade_id": "cell-5ab54b87f6c58a8d",
     "locked": false,
     "points": 6,
     "schema_version": 3,
     "solution": true
    }
   },
   "outputs": [],
   "source": [
    "# YOUR CODE HERE\n",
    "raise NotImplementedError()"
   ]
  },
  {
   "cell_type": "markdown",
   "metadata": {
    "deletable": false,
    "editable": false,
    "nbgrader": {
     "cell_type": "markdown",
     "checksum": "235e902163f6502b9beb9fde37522e12",
     "grade": false,
     "grade_id": "cell-97391c9a8ad705e9",
     "locked": true,
     "schema_version": 3,
     "solution": false
    }
   },
   "source": [
    "### Aufgabe 8 (5 Punkte)\n",
    "\n",
    "Zeichne erneut ein Histogramm und dazu Mittelwert, Median und *Otsu's* Schwellwert als vertikale Linien.  \n",
    "\n",
    "Zeichne dann ein Bild welches mit *Otsu's* Schwellwert binarisiert wurde.  \n",
    "\n",
    "Was stellst du fest? Beschreibe deine Erkenntnisse."
   ]
  },
  {
   "cell_type": "code",
   "execution_count": null,
   "metadata": {
    "deletable": false,
    "nbgrader": {
     "cell_type": "code",
     "checksum": "3e6ab610044f4b5478c3a59fac1ad44c",
     "grade": true,
     "grade_id": "cell-78a5dc7ebb347674",
     "locked": false,
     "points": 4,
     "schema_version": 3,
     "solution": true
    }
   },
   "outputs": [],
   "source": [
    "# YOUR CODE HERE\n",
    "raise NotImplementedError()"
   ]
  },
  {
   "cell_type": "markdown",
   "metadata": {
    "deletable": false,
    "nbgrader": {
     "cell_type": "markdown",
     "checksum": "42bc9a4d816ab7b6bfe472a1f70a80a2",
     "grade": true,
     "grade_id": "cell-310a4072c8e1126d",
     "locked": false,
     "points": 1,
     "schema_version": 3,
     "solution": true,
     "task": false
    }
   },
   "source": [
    "YOUR ANSWER HERE"
   ]
  },
  {
   "cell_type": "markdown",
   "metadata": {
    "deletable": false,
    "editable": false,
    "nbgrader": {
     "cell_type": "markdown",
     "checksum": "d152253a397d7986ede9079b3ead9bd2",
     "grade": false,
     "grade_id": "cell-bdc223be607a6e4b",
     "locked": true,
     "schema_version": 3,
     "solution": false,
     "task": false
    }
   },
   "source": [
    "### Aufgabe 9 (6 Punkte)\n",
    "\n",
    "In dieser Aufgabe schauen wir uns sogenannte Filter-Operationen an. Filter-Operationen sind ein Werkzeug aus der Bildverarbeitung. Dabei wird ein quadratisches Zahlenraster, der sogenannte Kernel, benutzt um die Pixelwerte eines Bildes zu verändern. \n",
    "\n",
    "<!-- ![image.png](attachment:761091b2-d52b-49f2-9ed3-bc8e22c92c62.png) -->\n",
    "\n",
    "<!-- ![](convolution.png) -->\n",
    "\n",
    "\n",
    "<img src=\"convolution.png\" style=\"width:650px\" />\n",
    "\n",
    "\n",
    "In der Abbildung sieht man am Beispiel eines 3x3 Kernels, wie die neuen Pixelwerte $f_{ij}$ aus den alten pixelwerten $p_{ij}$ sowie den den Einträgen des Kernels $a_{ij}$ errechnet werden. Für eine anschauliche Erklärung wie eine Filteroperation von statten geht kannst du dir [dieses Computerphile Video anschauen](https://www.youtube.com/watch?v=C_zFhWdM4ic)\n",
    "\n",
    "\n",
    "\n",
    "#### Box-Filter\n",
    "\n",
    "Ein Boxfilter ist ein sehr simpler Blur-Filter. Dabei hat jeder Eintrag im Kernel den Wert $\\frac{1}{n}$ wobei $n$ für die Anzahl Einträge im Kernel steht. Bei einem 3x3 Box-Filter wären alle einträge $\\frac{1}{9}$.\n",
    "\n",
    "Schreibe eine Funktion, welche eine ganze Zahl n als Argument entgegen nimmt und einen Box-Filter-Kernel der grösse nxn als numpy array zurück gibt. Dann benutze diese Funktion um das Turing-Bild mit einem 5x5, einem 9x9 und einem 15x15 Box-Filter zu bearbeiten. benutze dazu die funktion convolve2d von scipy. Dann plotte die drei resultierenden Bilder. Worin unterscheiden sich die Bilder? Und warum?"
   ]
  },
  {
   "cell_type": "code",
   "execution_count": null,
   "metadata": {
    "deletable": false,
    "nbgrader": {
     "cell_type": "code",
     "checksum": "0cfdc6d3167317fea44cd2d51198ce8a",
     "grade": true,
     "grade_id": "cell-b78b9d119e9e29af",
     "locked": false,
     "points": 2,
     "schema_version": 3,
     "solution": true,
     "task": false
    }
   },
   "outputs": [],
   "source": [
    "def box_filter(n):\n",
    "    # YOUR CODE HERE\n",
    "    raise NotImplementedError()"
   ]
  },
  {
   "cell_type": "code",
   "execution_count": null,
   "metadata": {
    "deletable": false,
    "nbgrader": {
     "cell_type": "code",
     "checksum": "0bcc2210ecdfb3a1ffd6448376f87a00",
     "grade": true,
     "grade_id": "cell-9e058b4bdc1c425e",
     "locked": false,
     "points": 2,
     "schema_version": 3,
     "solution": true,
     "task": false
    }
   },
   "outputs": [],
   "source": [
    "from scipy.signal import convolve2d\n",
    "\n",
    "# YOUR CODE HERE\n",
    "raise NotImplementedError()"
   ]
  },
  {
   "cell_type": "markdown",
   "metadata": {
    "deletable": false,
    "nbgrader": {
     "cell_type": "markdown",
     "checksum": "8baa389a157de10ef3de5917486698a1",
     "grade": true,
     "grade_id": "cell-45cefca820bf9c6b",
     "locked": false,
     "points": 2,
     "schema_version": 3,
     "solution": true,
     "task": false
    }
   },
   "source": [
    "YOUR ANSWER HERE"
   ]
  },
  {
   "cell_type": "markdown",
   "metadata": {
    "deletable": false,
    "editable": false,
    "nbgrader": {
     "cell_type": "markdown",
     "checksum": "a18e7366542d047e13f7a24608201c36",
     "grade": false,
     "grade_id": "cell-68b17c66d1819202",
     "locked": true,
     "schema_version": 3,
     "solution": false,
     "task": false
    }
   },
   "source": [
    "### Aufgabe 10 (5 Punkte)\n",
    "\n",
    "Nun implementieren wir eine Filter-Operation von Hand. Programmiere eine Funktion, welche ein Graustufenbild sowie einen 3x3 Kernel entgegen nimmt, dann den Kernel auf das Bild anwendet und schliesslich das resultierende Bild zurück gibt. Benutze dazu <b>keine</b> vorgefertigte Funktion wie convolve2d welche die Convolution für dich implementiert. Einfache Array-Operationen von Numpy darfst du verwenden.\n",
    "\n",
    "Benutze nun diese Funktion, um den folgenden Kernel auf das Bild von Alan Turing anzuwenden:\n",
    "\n",
    "$$\n",
    "kernel = \n",
    "\\begin{bmatrix}\n",
    "-1 & 0 & 1 \\\\\n",
    "-1 & 0 & 1 \\\\\n",
    "-1 & 0 & 1 \\\\\n",
    "\\end{bmatrix}\n",
    "$$\n",
    "\n",
    "<!-- <img src=\"edge_filter_hor.png\" style=\"width:120px\" /> -->\n",
    "\n",
    "Plotte das Resultierende Bild. Der Kernel ist ein Kantendetektionsfilter. Warum erscheinen einige Kanten dunkel aber andere Hell?"
   ]
  },
  {
   "cell_type": "code",
   "execution_count": null,
   "metadata": {
    "deletable": false,
    "nbgrader": {
     "cell_type": "code",
     "checksum": "67844d95f77892869eb6ffd8b3eb470b",
     "grade": false,
     "grade_id": "cell-aa296e72af7f6416",
     "locked": false,
     "schema_version": 3,
     "solution": true,
     "task": false
    }
   },
   "outputs": [],
   "source": [
    "def convolution(img, kernel):\n",
    "    # YOUR CODE HERE\n",
    "    raise NotImplementedError()\n",
    "\n",
    "    return result"
   ]
  },
  {
   "cell_type": "code",
   "execution_count": null,
   "metadata": {
    "deletable": false,
    "nbgrader": {
     "cell_type": "code",
     "checksum": "49509a50dc22c55a48beab1c8668d4bc",
     "grade": true,
     "grade_id": "cell-e8a0bdedd65974a3",
     "locked": false,
     "points": 4,
     "schema_version": 3,
     "solution": true,
     "task": false
    }
   },
   "outputs": [],
   "source": [
    "# YOUR CODE HERE\n",
    "raise NotImplementedError()"
   ]
  },
  {
   "cell_type": "markdown",
   "metadata": {
    "deletable": false,
    "nbgrader": {
     "cell_type": "markdown",
     "checksum": "c012c12f53c106c1b35fd45868e8e5b7",
     "grade": true,
     "grade_id": "cell-915c61f0044f0055",
     "locked": false,
     "points": 1,
     "schema_version": 3,
     "solution": true,
     "task": false
    }
   },
   "source": [
    "YOUR ANSWER HERE"
   ]
  },
  {
   "cell_type": "markdown",
   "metadata": {
    "deletable": false,
    "editable": false,
    "nbgrader": {
     "cell_type": "markdown",
     "checksum": "4e3dcb47d5af1bd63386e1c18311ddae",
     "grade": false,
     "grade_id": "cell-4dd8646b0733e0b1",
     "locked": true,
     "schema_version": 3,
     "solution": false,
     "task": false
    }
   },
   "source": [
    "### Aufgabe 11 (6 Punkte)\n",
    "Nun führen wir eine Kanten-Detektion mit dem sogenanten Sobel-Operator durch. Dabei werden die horizontalen und die Vertikalen Kanten einzeln detektiert und danach in einem Bild zusammengebracht.\n",
    "\n",
    "Dazu verwendet man die folgenden beiden Kernel:\n",
    "\n",
    "$$\n",
    "G_x = \n",
    "\\begin{bmatrix}\n",
    "-1 & 0 & 1 \\\\\n",
    "-2 & 0 & 2 \\\\\n",
    "-1 & 0 & 1 \\\\\n",
    "\\end{bmatrix}\n",
    "$$\n",
    "\n",
    "$$\n",
    "G_y = \n",
    "\\begin{bmatrix}\n",
    "-1 & -2 & -1 \\\\\n",
    "0  & 0  & 0 \\\\\n",
    "1  & 2  & 1 \\\\\n",
    "\\end{bmatrix}\n",
    "$$\n",
    "<!-- \n",
    "<img src=\"sobel_kernel.gif\" style=\"width:300px\" /> -->\n",
    "\n",
    "$Gx$ detektiert die vertikalen Kanten und $Gy$ die horizontalen. Nehmen wir an, das Resultat der Faltung mit $Gy$ heisst 'ResY' und das Resultat der Faltung mit $Gx$ 'ResX'. Dann wird das final resultierende Bild der Sobel-Kantendetektion mit folgender pixelweisen Operation berechnet:\n",
    "\n",
    "$result = \\sqrt{ResX^2 + ResY^2}$\n",
    "\n",
    "Auch zur Sobel-Kantendetektion gibt es ein [Computerphile video](https://www.youtube.com/watch?v=uihBwtPIBxM&t=70s)\n",
    "\n",
    "Schreibe eine Funktion, welche ein Bild als Numpy-Array entgegennimmt, die Sobel-Kantendetektion durchführt und das Resultat wiederum als Numpy-Array zurück gibt. Benutze für die Filterdetektion deine Funktion aus Aufgabe 10. Führe dann eine Sobel-Kantendetektion auf dem Bild von Alan Turing aus und plotte das Resultat.\n",
    "\n",
    "Der Kernel aus Aufgebe 10 enthielt nur die Zahlen -1, 0 und 1. $Gx$ enthält aber auch noch jeweils eine -2 und eine 2. Wie verändert dieser Unterschied die Faltungsoperation?\n",
    "\n",
    "Warum wurde das Schlussresultat der Sobel-Kantendetektion mit der obigen Formel und nicht einfach durch $result = ResX + ResY$ berechnet? Wozu dienen das Quadrieren und das Ziehen der Wurzel?"
   ]
  },
  {
   "cell_type": "code",
   "execution_count": null,
   "metadata": {
    "deletable": false,
    "nbgrader": {
     "cell_type": "code",
     "checksum": "6b60c5ac7f7658ecacc8baf735335fc1",
     "grade": true,
     "grade_id": "cell-88f16de53a689151",
     "locked": false,
     "points": 4,
     "schema_version": 3,
     "solution": true,
     "task": false
    }
   },
   "outputs": [],
   "source": [
    "def sobel(img):\n",
    "    \n",
    "    # YOUR CODE HERE\n",
    "    raise NotImplementedError()\n",
    "    \n",
    "    return result"
   ]
  },
  {
   "cell_type": "code",
   "execution_count": null,
   "metadata": {
    "deletable": false,
    "nbgrader": {
     "cell_type": "code",
     "checksum": "cabfd13ec5b4174a95a9491258bac872",
     "grade": false,
     "grade_id": "cell-28f92737d1481fe8",
     "locked": false,
     "schema_version": 3,
     "solution": true,
     "task": false
    }
   },
   "outputs": [],
   "source": [
    "# YOUR CODE HERE\n",
    "raise NotImplementedError()"
   ]
  },
  {
   "cell_type": "markdown",
   "metadata": {
    "deletable": false,
    "nbgrader": {
     "cell_type": "markdown",
     "checksum": "12dcb4bb5f0af6eb6c9ff1416c47cb84",
     "grade": true,
     "grade_id": "cell-9f3b9d9ecbc45de9",
     "locked": false,
     "points": 2,
     "schema_version": 3,
     "solution": true,
     "task": false
    }
   },
   "source": [
    "YOUR ANSWER HERE"
   ]
  },
  {
   "cell_type": "code",
   "execution_count": null,
   "metadata": {},
   "outputs": [],
   "source": []
  },
  {
   "cell_type": "code",
   "execution_count": null,
   "metadata": {},
   "outputs": [],
   "source": []
  }
 ],
 "metadata": {
  "interpreter": {
   "hash": "e80d07823cb130432dd427dd7858a22778816ee894290be9ed25ee67037a2bc3"
  },
  "kernelspec": {
   "display_name": "Python 3",
   "language": "python",
   "name": "python3"
  },
  "language_info": {
   "codemirror_mode": {
    "name": "ipython",
    "version": 3
   },
   "file_extension": ".py",
   "mimetype": "text/x-python",
   "name": "python",
   "nbconvert_exporter": "python",
   "pygments_lexer": "ipython3",
   "version": "3.8.5"
  },
  "widgets": {
   "state": {
    "dbc998941ccc427b90355fd1d11b0c07": {
     "views": [
      {
       "cell_index": 25
      }
     ]
    }
   },
   "version": "1.2.0"
  }
 },
 "nbformat": 4,
 "nbformat_minor": 4
}
