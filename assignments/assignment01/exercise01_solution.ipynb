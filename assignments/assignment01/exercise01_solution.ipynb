{
 "cells": [
  {
   "cell_type": "markdown",
   "metadata": {
    "nbgrader": {
     "grade": false,
     "grade_id": "header",
     "locked": true,
     "schema_version": 1,
     "solution": false
    }
   },
   "source": [
    "# DSP - Aufgabenblatt 1\n",
    "#### FHNW - HS2021"
   ]
  },
  {
   "cell_type": "markdown",
   "metadata": {},
   "source": [
    "## Jupyter notebooks,  `python`-Basics"
   ]
  },
  {
   "cell_type": "markdown",
   "metadata": {},
   "source": [
    "### Aufgabe 1\n",
    "\n",
    "Machen Sie sich mit *JupyterLab* und *Jupyter Notebooks* vertraut, indem Sie im Menü *Help* die *JupyterLab Reference* und hier besonders das *Notebook*-Kapitel anschauen.   \n",
    "\n",
    "Finden Sie heraus wie Sie mit dem Notebook interagieren können und was für *Shortcuts* es gibt.  \n",
    "\n",
    "Fügen Sie unterhalb eine neue *Code*-Zelle hinzu und geben Sie mit der `print`-Funktion die Zahlen von 1 bis 23 aus.  \n",
    "\n",
    "Darunter wiederum fügen Sie, bloss unter Verwendung von *Shortcuts*, eine *Markdown*-Zelle an, in welcher Sie einen grossen Titel schreiben, dazu einen Satz und eine mathematische Gleichung mit *LaTex*."
   ]
  },
  {
   "cell_type": "code",
   "execution_count": 4,
   "metadata": {},
   "outputs": [
    {
     "name": "stdout",
     "output_type": "stream",
     "text": [
      "1, 2, 3, 4, 5, 6, 7, 8, 9, 10, 11, 12, 13, 14, 15, 16, 17, 18, 19, 20, 21, 22, 23\n"
     ]
    }
   ],
   "source": [
    "print(', '.join([str(n) for n in range(1, 24)]))"
   ]
  },
  {
   "cell_type": "markdown",
   "metadata": {},
   "source": [
    "# Softmax\n",
    "\n",
    "Die Softmax-Funktion nimmt als Argument einen Vektor der Länge $k$ und normalisiert sämtliche Vektorkomponenten / -einträge, sodass der Vektor insgesamt im Sinne einer Wahrscheinlichkeitsverteilung interpretiert werden kann. Dabei ist die Softmax-Funktion $\\sigma$ wie folgt definiert:\n",
    "\n",
    "\\begin{equation}\n",
    "\\sigma(\\mathbf{x})_i = \\frac{\\exp{(x_i)}}{\\sum_j^k \\exp{(x_j)}}\n",
    "\\end{equation}"
   ]
  },
  {
   "cell_type": "markdown",
   "metadata": {},
   "source": [
    "### Aufgabe 2\n",
    "\n",
    "Implementieren Sie eine Klasse, um das Spiel [*Rock, Paper, Scissors (Lizard, Spok)*](https://de.wikipedia.org/wiki/Schere,_Stein,_Papier) zu spielen.  \n",
    "\n",
    "Verwenden Sie die Funktion `input` um die Eingabe von einem Spieler zu erhalten.  \n",
    "\n",
    "Erzeugen sie die Wahl des Computerspielers mit Hilfe von `random.choice`.  \n",
    "\n",
    "Speichern Sie den Spielstand über mehrere Runden hinweg und geben sie den Zwischenstand als Resultat auf den Aufruf von `str` auf dem Objekt zurück.  \n",
    "\n",
    "Stecken sie den *code* in ein `python` *script*, sodass sie das Spiel über die Kommandozeile spielen können."
   ]
  },
  {
   "cell_type": "code",
   "execution_count": 1,
   "metadata": {},
   "outputs": [],
   "source": [
    "from random import choice\n",
    "\n",
    "class Draw():\n",
    "    '''One possible draw for one player.\n",
    "    '''\n",
    "    \n",
    "    choice_set = ('rock', 'paper', 'scissors',)\n",
    "    \n",
    "    def __init__(self, draw='random'):\n",
    "        ''' '''        \n",
    "        if draw == 'random':\n",
    "            self.draw = choice(self.choice_set)\n",
    "        else:\n",
    "            if not draw in self.choice_set:\n",
    "                raise ValueError('You have to pick among {}'.format(self.choice_set))\n",
    "            self.draw = draw\n",
    "            \n",
    "    def __repr__(self):\n",
    "        return 'Draw(\"{}\")'.format(self.draw)\n",
    "    \n",
    "    def __str__(self):\n",
    "        return self.draw\n",
    "    \n",
    "    def __lt__(self, d):\n",
    "        if not type(d) == Draw:\n",
    "            raise ValueError('You can only compare to objects of type \"Draw\".')\n",
    "        if self.draw == d.draw:\n",
    "            return False\n",
    "        if self.draw == 'rock' and d.draw == 'paper':\n",
    "            return True\n",
    "        if self.draw == 'rock' and d.draw == 'scissors':\n",
    "            return False\n",
    "        if self.draw == 'paper' and d.draw == 'scissors':\n",
    "            return True\n",
    "        if self.draw == 'paper' and d.draw == 'rock':\n",
    "            return False\n",
    "        if self.draw == 'scissors' and d.draw == 'rock':\n",
    "            return True\n",
    "        if self.draw == 'scissors' and d.draw == 'paper':\n",
    "            return False\n",
    "            \n",
    "    def __gt__(self, d):\n",
    "        if not type(d) == Draw:\n",
    "            raise ValueError('You can only compare to objects of type \"Draw\".')\n",
    "        if self.draw == d.draw:\n",
    "            return False\n",
    "        else:\n",
    "            return not self.__lt__(d)       \n",
    "\n",
    "\n",
    "\n",
    "class Points:\n",
    "\n",
    "    def __init__(self, h, c):\n",
    "        self.human = h\n",
    "        self.computer = c\n",
    "        \n",
    "    def max(self):\n",
    "        return max((self.human, self.computer))\n",
    "\n",
    "\n",
    "class Game():\n",
    "    \n",
    "    def __init__(self, player, max_points=3):\n",
    "        ''' '''\n",
    "        self.player = player\n",
    "        self.max_points = max_points\n",
    "        self.points = Points(0,0)\n",
    "        print(\"\\nLet's go {}!\\n\".format(self.player))\n",
    "        \n",
    "    def __repr__(self):\n",
    "        ''' '''\n",
    "        return 'Game({} {} : {} Computer)'.format(self.player, self.points.human, self.points.computer)\n",
    "    \n",
    "    def play(self):\n",
    "        while self.points.max() < self.max_points:\n",
    "            h = Game.draw()\n",
    "            c = Draw()\n",
    "            if h < c:\n",
    "                self.points.computer +=1\n",
    "            elif h > c:\n",
    "                self.points.human += 1\n",
    "            \n",
    "            print('{} : {} - SCORE {}:{}'.format(h, c, self.points.human, self.points.computer))\n",
    "\n",
    "        if self.points.human > self.points.computer:\n",
    "            winner = self.player\n",
    "        else:\n",
    "            winner = 'Computer'\n",
    "        print('\\nThe winner is {}!'.format(winner))\n",
    "                     \n",
    "    @staticmethod\n",
    "    def draw():\n",
    "        ''' '''\n",
    "        draw = input('Pick among \"paper\" (p), \"scissors\" (s), \"rock\" (r) :  ')\n",
    "        draw = Game._validate_draw(draw)\n",
    "        if draw is None:\n",
    "            Game.draw()\n",
    "        else:\n",
    "            return Draw(draw)\n",
    "    \n",
    "    @staticmethod\n",
    "    def _validate_draw(draw):\n",
    "        ''' '''\n",
    "        if draw in Draw.choice_set:\n",
    "            return draw\n",
    "        elif draw == 'p':\n",
    "            return 'paper'\n",
    "        elif draw == 's':\n",
    "            return 'scissors'\n",
    "        elif draw == 'r':\n",
    "            return 'rock'\n",
    "        else:\n",
    "            print('\\nYour pick is not valid ..')\n",
    "            return None"
   ]
  },
  {
   "cell_type": "raw",
   "metadata": {},
   "source": [
    "Game('Michael').play()"
   ]
  },
  {
   "cell_type": "code",
   "execution_count": null,
   "metadata": {},
   "outputs": [],
   "source": [
    "Game.draw()"
   ]
  },
  {
   "cell_type": "code",
   "execution_count": null,
   "metadata": {},
   "outputs": [],
   "source": []
  }
 ],
 "metadata": {
  "celltoolbar": "Create Assignment",
  "kernelspec": {
   "display_name": "Python 3 (ipykernel)",
   "language": "python",
   "name": "python3"
  },
  "language_info": {
   "codemirror_mode": {
    "name": "ipython",
    "version": 3
   },
   "file_extension": ".py",
   "mimetype": "text/x-python",
   "name": "python",
   "nbconvert_exporter": "python",
   "pygments_lexer": "ipython3",
   "version": "3.9.6"
  },
  "widgets": {
   "state": {
    "dbc998941ccc427b90355fd1d11b0c07": {
     "views": [
      {
       "cell_index": 25
      }
     ]
    }
   },
   "version": "1.2.0"
  }
 },
 "nbformat": 4,
 "nbformat_minor": 4
}
