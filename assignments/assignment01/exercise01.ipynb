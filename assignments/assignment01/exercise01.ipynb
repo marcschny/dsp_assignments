{
 "cells": [
  {
   "cell_type": "markdown",
   "metadata": {
    "nbgrader": {
     "grade": false,
     "grade_id": "header",
     "locked": true,
     "schema_version": 3,
     "solution": false
    }
   },
   "source": [
    "# DSP - Aufgabenblatt 1\n",
    "#### FHNW - HS2021"
   ]
  },
  {
   "cell_type": "markdown",
   "metadata": {},
   "source": [
    "## *JupyterLab, Notebooks,*  `Python`-*Fundamentals*"
   ]
  },
  {
   "cell_type": "markdown",
   "metadata": {},
   "source": [
    "### Aufgabe 1\n",
    "\n",
    "Machen Sie sich mit *JupyterLab* und *Jupyter Notebooks* vertraut, indem Sie im Menü *Help* die *JupyterLab Reference* und hier besonders das *Notebook*-Kapitel anschauen.   \n",
    "\n",
    "Finden Sie heraus wie Sie mit dem Notebook interagieren können und was für *Shortcuts* es gibt.  \n",
    "\n",
    "Fügen Sie unterhalb eine neue *Code*-Zelle hinzu und geben Sie mit der `print`-Funktion die Zahlen von 1 bis 42 aus.  \n",
    "\n",
    "Darunter wiederum fügen Sie, bloss unter Verwendung von *Shortcuts*, eine *Markdown*-Zelle an, in welcher Sie einen grossen Titel schreiben, dazu einen Satz und eine mathematische Gleichung mit *LaTex*."
   ]
  },
  {
   "cell_type": "markdown",
   "metadata": {},
   "source": [
    "### Aufgabe 2"
   ]
  },
  {
   "cell_type": "markdown",
   "metadata": {},
   "source": [
    "Implementieren Sie eine Klasse, um das Spiel [*Rock, Paper, Scissors (Lizard, Spok)*](https://de.wikipedia.org/wiki/Schere,_Stein,_Papier) zu spielen.  \n",
    "\n",
    "Verwenden Sie die Funktion `input` um die Eingabe von einem Spieler zu erhalten.  \n",
    "\n",
    "Erzeugen sie die Wahl des Computerspielers mit Hilfe von `random.choice`.  \n",
    "\n",
    "Speichern Sie den Spielstand über mehrere Runden hinweg."
   ]
  },
  {
   "cell_type": "code",
   "execution_count": null,
   "metadata": {},
   "outputs": [],
   "source": [
    "from random import choice"
   ]
  },
  {
   "cell_type": "code",
   "execution_count": null,
   "metadata": {},
   "outputs": [],
   "source": []
  },
  {
   "cell_type": "markdown",
   "metadata": {},
   "source": [
    "### Aufgabe 3\n",
    "\n",
    "Finden Sie einen Weg, wie Sie das Spiel aus Aufgabe 2 über die Kommandozeile spielen können."
   ]
  },
  {
   "cell_type": "code",
   "execution_count": null,
   "metadata": {},
   "outputs": [],
   "source": []
  }
 ],
 "metadata": {
  "celltoolbar": "Create Assignment",
  "kernelspec": {
   "display_name": "Python 3 (ipykernel)",
   "language": "python",
   "name": "python3"
  },
  "language_info": {
   "codemirror_mode": {
    "name": "ipython",
    "version": 3
   },
   "file_extension": ".py",
   "mimetype": "text/x-python",
   "name": "python",
   "nbconvert_exporter": "python",
   "pygments_lexer": "ipython3",
   "version": "3.9.6"
  },
  "widgets": {
   "state": {
    "dbc998941ccc427b90355fd1d11b0c07": {
     "views": [
      {
       "cell_index": 25
      }
     ]
    }
   },
   "version": "1.2.0"
  }
 },
 "nbformat": 4,
 "nbformat_minor": 4
}
