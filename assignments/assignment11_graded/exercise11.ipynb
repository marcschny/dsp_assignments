{
 "cells": [
  {
   "cell_type": "markdown",
   "metadata": {
    "deletable": false,
    "editable": false,
    "nbgrader": {
     "cell_type": "markdown",
     "checksum": "c1750f9366b141a3af917d83713fbdd7",
     "grade": false,
     "grade_id": "header",
     "locked": true,
     "schema_version": 3,
     "solution": false
    }
   },
   "source": [
    "# DSP - Aufgabenblatt 11\n",
    "\n",
    "## Bewertete Übung\n",
    "\n",
    "#### FHNW - HS2021"
   ]
  },
  {
   "cell_type": "markdown",
   "metadata": {
    "deletable": false,
    "editable": false,
    "nbgrader": {
     "cell_type": "markdown",
     "checksum": "1059993e0528e7f4ed4b0e3b5ee3260c",
     "grade": false,
     "grade_id": "cell-f66de17fc6068da5",
     "locked": true,
     "schema_version": 3,
     "solution": false
    }
   },
   "source": [
    "#### Vorgaben für die Zusammenarbeit\n",
    "\n",
    "Ihr dürft für die Lösung der Übung zusammenarbeiten, so lange sich eure **Zusammenarbeit auf konzeptionelle und algorithmische Fragestellungen beschränkt**. Bei kopiertem Code oder Text (von Mitstudierenden oder dem Internet) werden alle Lösungen der beteiligten Parteien mit 0 Punkten bewertet. Dazu werden alle Lösungen manuell und automatisiert auf Kopien untersucht.  \n",
    "\n",
    "#### Abgabe\n",
    "\n",
    "Arbeite auf einem eigenen Fork des Repositories `https://gitlab.fhnw.ch/ml/courses/dsp/dsp_hs2021` zu welchem du @michael.graber und @florian.schaerer als *Maintainer* hinzufügst. Committe regelmässig. Als Abgabe gilt der **letzte Commit bis Freitag, 31. Dezember 2021, 23:59:59 Uhr**."
   ]
  },
  {
   "cell_type": "markdown",
   "metadata": {
    "deletable": false,
    "editable": false,
    "nbgrader": {
     "cell_type": "markdown",
     "checksum": "75a301996e165c24f18a878b06f5d130",
     "grade": false,
     "grade_id": "cell-decacecdd1529d0d",
     "locked": true,
     "schema_version": 3,
     "solution": false
    }
   },
   "source": [
    "#### Hinweise\n",
    "- Der *Code* muss von Anfang bis Ende durchlaufen. Es wird nur Code bewertet, welcher beim automatischen Durchlaufen ausgeführt wird.    \n",
    "- Beschrifte sämtliche Achsen (Bezeichnung und Einheit wenn möglich).  \n",
    "- Ergänze den Plot mit zusätzlicher Beschriftung falls dies zum Verständnis des Plots notwendig ist.  \n",
    "- Wenn du einen Plot in einer Antwort diskutierst, beginne mit einer Beschreibung dessen was der Plot zeigt.  \n",
    "\n",
    "\n",
    "- Sämtliche Variablen die in einer von dir definierten Funktionen verwendet werden, müssen als Argumente übergeben oder innerhalb der Funktion definiert werden.\n",
    "- Selbst definierte Funktionen müssen einen (kurzen) docstring haben.\n",
    "\n",
    "\n",
    "- Versuche eine kompakte und performante Implementierung zu finden. Vollständige Punktzahl erreichst du bloss mit performantem *Code*.  \n",
    "- Verwende dazu, wo immer möglich und sinnvoll, Funktionen aus `pandas` und `numpy`.\n",
    "- Vermeide *Loops* falls möglich."
   ]
  },
  {
   "cell_type": "markdown",
   "metadata": {
    "deletable": false,
    "editable": false,
    "nbgrader": {
     "cell_type": "markdown",
     "checksum": "1e18e4e7b9d8b19547930a4c3573c0ee",
     "grade": false,
     "grade_id": "cell-4e580db29af0a865",
     "locked": true,
     "schema_version": 3,
     "solution": false
    }
   },
   "source": [
    "Am 14. April 1912 ist die Titanic vor der Küste Neufundlands auf ihrer Jungfernfahrt mit einem Eisberg kollidiert und sank kanpp 3 Stunden später in den frühen Morgenstunden des 15. Aprils. Von den ca 2224 Passagieren und Crewmitgliedern starben rund 1500.  \n",
    "\n",
    "Auf der Website https://www.encyclopedia-titanica.org/ können Passagier- und Crewlisten runtergeladen werden. Ich habe euch zwei Dateien bereitgestellt: 'data/titanic_survivors.csv' und 'data/titanic_victims.csv'. Sie beinhalten jeweils die Überlebenden und Opfer des Unglücks.  \n",
    "\n",
    "Wir werden in dieser Übung die Personen hinter diesem Unglück miteinander untersuchen."
   ]
  },
  {
   "cell_type": "markdown",
   "metadata": {
    "deletable": false,
    "editable": false,
    "nbgrader": {
     "cell_type": "markdown",
     "checksum": "53c178024077ccf65a52cd523b40693d",
     "grade": false,
     "grade_id": "cell-d0b1658323be9aa7",
     "locked": true,
     "schema_version": 3,
     "solution": false
    }
   },
   "source": [
    "### Aufgabe 1 (10 Punkte)  \n",
    "\n",
    "Schreibe eine Funktion, mit welcher du die beiden Dateien laden und präprozessieren kannst.  \n",
    "\n",
    "Die Funktion soll ein `DataFrame` zurückgeben mit folgenden Spalten: `'name', 'sex', 'age', 'is_adult', 'job', 'class_dept', 'is_passenger', 'joined', 'boat_body', 'ticketprice', 'survived',`.  \n",
    "\n",
    "\n",
    "- Der Ticketpreis steht bei Passagieren jeweils auf der folgenden Zeile im Feld `Ticket`. Extrahiere Pfund, Shilling und Pence mittels *regular expression-matching* auf dem `DataFrame`.\n",
    "- Berechne einen Dezimalbetrag in Pfund gemäss dem folgenden Satz: *'There were 12 pence in a shilling and 20 shillings in a pound.'* \n",
    "- Leite das Geschlecht `sex` aus dem Namen, insbesondere aus der Anrede, ab. Finde eine geeignete `pandas`-Methode für das *Mapping*.\n",
    "- Berechnene das Alter für alle Personen in Jahren (`m` steht für *months*).\n",
    "- `is_passenger` soll `True` sein, falls `class_dept` in `['1st Class Passenger', '2nd Class Passenger', '3rd Class Passenger',]` ist.  \n",
    "- Sortiere das `DataFrame` nach dem Familiennamen.\n",
    "\n",
    "Jeder *for-Loop* gibt 2 Punkte Abzug.  \n",
    "\n",
    "Lade die Daten und gib die ersten 10 Zeilen aus."
   ]
  },
  {
   "cell_type": "code",
   "execution_count": 10,
   "metadata": {
    "deletable": false,
    "nbgrader": {
     "cell_type": "code",
     "checksum": "415e716d849f73ac7a5c86d5af1106be",
     "grade": true,
     "grade_id": "cell-8478028c8583e471",
     "locked": false,
     "points": 10,
     "schema_version": 3,
     "solution": true
    }
   },
   "outputs": [
    {
     "data": {
      "text/html": [
       "<div>\n",
       "<style scoped>\n",
       "    .dataframe tbody tr th:only-of-type {\n",
       "        vertical-align: middle;\n",
       "    }\n",
       "\n",
       "    .dataframe tbody tr th {\n",
       "        vertical-align: top;\n",
       "    }\n",
       "\n",
       "    .dataframe thead th {\n",
       "        text-align: right;\n",
       "    }\n",
       "</style>\n",
       "<table border=\"1\" class=\"dataframe\">\n",
       "  <thead>\n",
       "    <tr style=\"text-align: right;\">\n",
       "      <th></th>\n",
       "      <th>name</th>\n",
       "      <th>sex</th>\n",
       "      <th>age</th>\n",
       "      <th>is_adult</th>\n",
       "      <th>job</th>\n",
       "      <th>class_dept</th>\n",
       "      <th>is_passenger</th>\n",
       "      <th>joined</th>\n",
       "      <th>boat_body</th>\n",
       "      <th>ticketprice</th>\n",
       "      <th>survived</th>\n",
       "    </tr>\n",
       "  </thead>\n",
       "  <tbody>\n",
       "    <tr>\n",
       "      <th>0</th>\n",
       "      <td>ABBING, Mr Anthony</td>\n",
       "      <td>Male</td>\n",
       "      <td>41</td>\n",
       "      <td>True</td>\n",
       "      <td>Blacksmith</td>\n",
       "      <td>3rd Class Passenger</td>\n",
       "      <td>True</td>\n",
       "      <td>Southampton</td>\n",
       "      <td>NaN</td>\n",
       "      <td>7.55</td>\n",
       "      <td>False</td>\n",
       "    </tr>\n",
       "    <tr>\n",
       "      <th>1</th>\n",
       "      <td>ABBOTT, Mr Ernest Owen</td>\n",
       "      <td>Male</td>\n",
       "      <td>21</td>\n",
       "      <td>True</td>\n",
       "      <td>Lounge Pantry Steward</td>\n",
       "      <td>Victualling Crew</td>\n",
       "      <td>False</td>\n",
       "      <td>Southampton</td>\n",
       "      <td>NaN</td>\n",
       "      <td>NaN</td>\n",
       "      <td>False</td>\n",
       "    </tr>\n",
       "    <tr>\n",
       "      <th>2</th>\n",
       "      <td>ABBOTT, Mr Eugene Joseph</td>\n",
       "      <td>Male</td>\n",
       "      <td>13</td>\n",
       "      <td>False</td>\n",
       "      <td>Scholar</td>\n",
       "      <td>3rd Class Passenger</td>\n",
       "      <td>True</td>\n",
       "      <td>Southampton</td>\n",
       "      <td>NaN</td>\n",
       "      <td>20.25</td>\n",
       "      <td>False</td>\n",
       "    </tr>\n",
       "    <tr>\n",
       "      <th>3</th>\n",
       "      <td>ABBOTT, Mr Rossmore Edward</td>\n",
       "      <td>Male</td>\n",
       "      <td>16</td>\n",
       "      <td>False</td>\n",
       "      <td>Jeweller</td>\n",
       "      <td>3rd Class Passenger</td>\n",
       "      <td>True</td>\n",
       "      <td>Southampton</td>\n",
       "      <td>[190]</td>\n",
       "      <td>20.25</td>\n",
       "      <td>False</td>\n",
       "    </tr>\n",
       "    <tr>\n",
       "      <th>4</th>\n",
       "      <td>ABELSON, Mr Samuel</td>\n",
       "      <td>Male</td>\n",
       "      <td>30</td>\n",
       "      <td>True</td>\n",
       "      <td>NaN</td>\n",
       "      <td>2nd Class Passenger</td>\n",
       "      <td>True</td>\n",
       "      <td>Cherbourg</td>\n",
       "      <td>NaN</td>\n",
       "      <td>24.00</td>\n",
       "      <td>False</td>\n",
       "    </tr>\n",
       "    <tr>\n",
       "      <th>5</th>\n",
       "      <td>ABRAMS, Mr William Thomas</td>\n",
       "      <td>Male</td>\n",
       "      <td>34</td>\n",
       "      <td>True</td>\n",
       "      <td>Fireman</td>\n",
       "      <td>Engineering Crew</td>\n",
       "      <td>False</td>\n",
       "      <td>Southampton</td>\n",
       "      <td>NaN</td>\n",
       "      <td>NaN</td>\n",
       "      <td>False</td>\n",
       "    </tr>\n",
       "    <tr>\n",
       "      <th>6</th>\n",
       "      <td>ABĪ SA'B, Mr Jirjis Yūsuf</td>\n",
       "      <td>Male</td>\n",
       "      <td>45</td>\n",
       "      <td>True</td>\n",
       "      <td>Shoemaker</td>\n",
       "      <td>3rd Class Passenger</td>\n",
       "      <td>True</td>\n",
       "      <td>Cherbourg</td>\n",
       "      <td>[312]</td>\n",
       "      <td>7.22</td>\n",
       "      <td>False</td>\n",
       "    </tr>\n",
       "    <tr>\n",
       "      <th>7</th>\n",
       "      <td>ABĪ SHADĪD, Mr Dāhir</td>\n",
       "      <td>Male</td>\n",
       "      <td>19</td>\n",
       "      <td>True</td>\n",
       "      <td>NaN</td>\n",
       "      <td>3rd Class Passenger</td>\n",
       "      <td>True</td>\n",
       "      <td>Cherbourg</td>\n",
       "      <td>[9]</td>\n",
       "      <td>7.22</td>\n",
       "      <td>False</td>\n",
       "    </tr>\n",
       "    <tr>\n",
       "      <th>8</th>\n",
       "      <td>ADAMS, Mr John</td>\n",
       "      <td>Male</td>\n",
       "      <td>26</td>\n",
       "      <td>True</td>\n",
       "      <td>NaN</td>\n",
       "      <td>3rd Class Passenger</td>\n",
       "      <td>True</td>\n",
       "      <td>Southampton</td>\n",
       "      <td>[103]</td>\n",
       "      <td>8.05</td>\n",
       "      <td>False</td>\n",
       "    </tr>\n",
       "    <tr>\n",
       "      <th>9</th>\n",
       "      <td>ADAMS, Mr Robert John</td>\n",
       "      <td>Male</td>\n",
       "      <td>26</td>\n",
       "      <td>True</td>\n",
       "      <td>Fireman</td>\n",
       "      <td>Engineering Crew</td>\n",
       "      <td>False</td>\n",
       "      <td>Southampton</td>\n",
       "      <td>NaN</td>\n",
       "      <td>NaN</td>\n",
       "      <td>False</td>\n",
       "    </tr>\n",
       "  </tbody>\n",
       "</table>\n",
       "</div>"
      ],
      "text/plain": [
       "                         name   sex  age  is_adult                    job  \\\n",
       "0          ABBING, Mr Anthony  Male   41      True             Blacksmith   \n",
       "1      ABBOTT, Mr Ernest Owen  Male   21      True  Lounge Pantry Steward   \n",
       "2    ABBOTT, Mr Eugene Joseph  Male   13     False                Scholar   \n",
       "3  ABBOTT, Mr Rossmore Edward  Male   16     False               Jeweller   \n",
       "4          ABELSON, Mr Samuel  Male   30      True                    NaN   \n",
       "5   ABRAMS, Mr William Thomas  Male   34      True                Fireman   \n",
       "6   ABĪ SA'B, Mr Jirjis Yūsuf  Male   45      True              Shoemaker   \n",
       "7        ABĪ SHADĪD, Mr Dāhir  Male   19      True                    NaN   \n",
       "8              ADAMS, Mr John  Male   26      True                    NaN   \n",
       "9       ADAMS, Mr Robert John  Male   26      True                Fireman   \n",
       "\n",
       "            class_dept  is_passenger       joined boat_body  ticketprice  \\\n",
       "0  3rd Class Passenger          True  Southampton       NaN         7.55   \n",
       "1     Victualling Crew         False  Southampton       NaN          NaN   \n",
       "2  3rd Class Passenger          True  Southampton       NaN        20.25   \n",
       "3  3rd Class Passenger          True  Southampton     [190]        20.25   \n",
       "4  2nd Class Passenger          True    Cherbourg       NaN        24.00   \n",
       "5     Engineering Crew         False  Southampton       NaN          NaN   \n",
       "6  3rd Class Passenger          True    Cherbourg     [312]         7.22   \n",
       "7  3rd Class Passenger          True    Cherbourg       [9]         7.22   \n",
       "8  3rd Class Passenger          True  Southampton     [103]         8.05   \n",
       "9     Engineering Crew         False  Southampton       NaN          NaN   \n",
       "\n",
       "   survived  \n",
       "0     False  \n",
       "1     False  \n",
       "2     False  \n",
       "3     False  \n",
       "4     False  \n",
       "5     False  \n",
       "6     False  \n",
       "7     False  \n",
       "8     False  \n",
       "9     False  "
      ]
     },
     "metadata": {},
     "output_type": "display_data"
    },
    {
     "data": {
      "text/html": [
       "<div>\n",
       "<style scoped>\n",
       "    .dataframe tbody tr th:only-of-type {\n",
       "        vertical-align: middle;\n",
       "    }\n",
       "\n",
       "    .dataframe tbody tr th {\n",
       "        vertical-align: top;\n",
       "    }\n",
       "\n",
       "    .dataframe thead th {\n",
       "        text-align: right;\n",
       "    }\n",
       "</style>\n",
       "<table border=\"1\" class=\"dataframe\">\n",
       "  <thead>\n",
       "    <tr style=\"text-align: right;\">\n",
       "      <th></th>\n",
       "      <th>name</th>\n",
       "      <th>sex</th>\n",
       "      <th>age</th>\n",
       "      <th>is_adult</th>\n",
       "      <th>job</th>\n",
       "      <th>class_dept</th>\n",
       "      <th>is_passenger</th>\n",
       "      <th>joined</th>\n",
       "      <th>boat_body</th>\n",
       "      <th>ticketprice</th>\n",
       "      <th>survived</th>\n",
       "    </tr>\n",
       "  </thead>\n",
       "  <tbody>\n",
       "    <tr>\n",
       "      <th>0</th>\n",
       "      <td>ABBOTT, Mrs Rhoda Mary 'Rosa'</td>\n",
       "      <td>Female</td>\n",
       "      <td>39</td>\n",
       "      <td>True</td>\n",
       "      <td>NaN</td>\n",
       "      <td>3rd Class Passenger</td>\n",
       "      <td>True</td>\n",
       "      <td>Southampton</td>\n",
       "      <td>A</td>\n",
       "      <td>20.25</td>\n",
       "      <td>True</td>\n",
       "    </tr>\n",
       "    <tr>\n",
       "      <th>1</th>\n",
       "      <td>ABELSETH, Miss Karen Marie</td>\n",
       "      <td>Female</td>\n",
       "      <td>16</td>\n",
       "      <td>False</td>\n",
       "      <td>NaN</td>\n",
       "      <td>3rd Class Passenger</td>\n",
       "      <td>True</td>\n",
       "      <td>Southampton</td>\n",
       "      <td>16</td>\n",
       "      <td>7.65</td>\n",
       "      <td>True</td>\n",
       "    </tr>\n",
       "    <tr>\n",
       "      <th>2</th>\n",
       "      <td>ABELSETH, Mr Olaus Jørgensen</td>\n",
       "      <td>Male</td>\n",
       "      <td>25</td>\n",
       "      <td>True</td>\n",
       "      <td>Farmer</td>\n",
       "      <td>3rd Class Passenger</td>\n",
       "      <td>True</td>\n",
       "      <td>Southampton</td>\n",
       "      <td>A</td>\n",
       "      <td>7.65</td>\n",
       "      <td>True</td>\n",
       "    </tr>\n",
       "    <tr>\n",
       "      <th>3</th>\n",
       "      <td>ABELSON, Mrs Anna</td>\n",
       "      <td>Female</td>\n",
       "      <td>24</td>\n",
       "      <td>True</td>\n",
       "      <td>NaN</td>\n",
       "      <td>2nd Class Passenger</td>\n",
       "      <td>True</td>\n",
       "      <td>Cherbourg</td>\n",
       "      <td>10</td>\n",
       "      <td>24.00</td>\n",
       "      <td>True</td>\n",
       "    </tr>\n",
       "    <tr>\n",
       "      <th>4</th>\n",
       "      <td>ABRAHAMSSON, Mr August Abraham Johannes</td>\n",
       "      <td>Male</td>\n",
       "      <td>19</td>\n",
       "      <td>True</td>\n",
       "      <td>NaN</td>\n",
       "      <td>3rd Class Passenger</td>\n",
       "      <td>True</td>\n",
       "      <td>Southampton</td>\n",
       "      <td>15</td>\n",
       "      <td>7.92</td>\n",
       "      <td>True</td>\n",
       "    </tr>\n",
       "    <tr>\n",
       "      <th>5</th>\n",
       "      <td>ABĪ SA'B, Mrs Sha'nīnah</td>\n",
       "      <td>Female</td>\n",
       "      <td>38</td>\n",
       "      <td>True</td>\n",
       "      <td>NaN</td>\n",
       "      <td>3rd Class Passenger</td>\n",
       "      <td>True</td>\n",
       "      <td>Cherbourg</td>\n",
       "      <td>C</td>\n",
       "      <td>7.23</td>\n",
       "      <td>True</td>\n",
       "    </tr>\n",
       "    <tr>\n",
       "      <th>6</th>\n",
       "      <td>ABĪ-AL-MUNÀ, Mr Nāsīf Qāsim</td>\n",
       "      <td>Male</td>\n",
       "      <td>27</td>\n",
       "      <td>True</td>\n",
       "      <td>NaN</td>\n",
       "      <td>3rd Class Passenger</td>\n",
       "      <td>True</td>\n",
       "      <td>Cherbourg</td>\n",
       "      <td>15</td>\n",
       "      <td>18.79</td>\n",
       "      <td>True</td>\n",
       "    </tr>\n",
       "    <tr>\n",
       "      <th>7</th>\n",
       "      <td>AKS, Master Philip</td>\n",
       "      <td>Male</td>\n",
       "      <td>0</td>\n",
       "      <td>False</td>\n",
       "      <td>NaN</td>\n",
       "      <td>3rd Class Passenger</td>\n",
       "      <td>True</td>\n",
       "      <td>Southampton</td>\n",
       "      <td>11</td>\n",
       "      <td>9.35</td>\n",
       "      <td>True</td>\n",
       "    </tr>\n",
       "    <tr>\n",
       "      <th>8</th>\n",
       "      <td>AKS, Mrs Leah</td>\n",
       "      <td>Female</td>\n",
       "      <td>21</td>\n",
       "      <td>True</td>\n",
       "      <td>NaN</td>\n",
       "      <td>3rd Class Passenger</td>\n",
       "      <td>True</td>\n",
       "      <td>Southampton</td>\n",
       "      <td>13</td>\n",
       "      <td>9.35</td>\n",
       "      <td>True</td>\n",
       "    </tr>\n",
       "    <tr>\n",
       "      <th>9</th>\n",
       "      <td>AL-BA'QLĪNĪ, Miss Hilānah</td>\n",
       "      <td>Female</td>\n",
       "      <td>0</td>\n",
       "      <td>False</td>\n",
       "      <td>NaN</td>\n",
       "      <td>3rd Class Passenger</td>\n",
       "      <td>True</td>\n",
       "      <td>Cherbourg</td>\n",
       "      <td>C</td>\n",
       "      <td>19.26</td>\n",
       "      <td>True</td>\n",
       "    </tr>\n",
       "  </tbody>\n",
       "</table>\n",
       "</div>"
      ],
      "text/plain": [
       "                                      name     sex  age  is_adult     job  \\\n",
       "0            ABBOTT, Mrs Rhoda Mary 'Rosa'  Female   39      True     NaN   \n",
       "1               ABELSETH, Miss Karen Marie  Female   16     False     NaN   \n",
       "2             ABELSETH, Mr Olaus Jørgensen    Male   25      True  Farmer   \n",
       "3                        ABELSON, Mrs Anna  Female   24      True     NaN   \n",
       "4  ABRAHAMSSON, Mr August Abraham Johannes    Male   19      True     NaN   \n",
       "5                  ABĪ SA'B, Mrs Sha'nīnah  Female   38      True     NaN   \n",
       "6              ABĪ-AL-MUNÀ, Mr Nāsīf Qāsim    Male   27      True     NaN   \n",
       "7                       AKS, Master Philip    Male    0     False     NaN   \n",
       "8                            AKS, Mrs Leah  Female   21      True     NaN   \n",
       "9                AL-BA'QLĪNĪ, Miss Hilānah  Female    0     False     NaN   \n",
       "\n",
       "            class_dept  is_passenger       joined boat_body  ticketprice  \\\n",
       "0  3rd Class Passenger          True  Southampton         A        20.25   \n",
       "1  3rd Class Passenger          True  Southampton        16         7.65   \n",
       "2  3rd Class Passenger          True  Southampton         A         7.65   \n",
       "3  2nd Class Passenger          True    Cherbourg        10        24.00   \n",
       "4  3rd Class Passenger          True  Southampton        15         7.92   \n",
       "5  3rd Class Passenger          True    Cherbourg         C         7.23   \n",
       "6  3rd Class Passenger          True    Cherbourg        15        18.79   \n",
       "7  3rd Class Passenger          True  Southampton        11         9.35   \n",
       "8  3rd Class Passenger          True  Southampton        13         9.35   \n",
       "9  3rd Class Passenger          True    Cherbourg         C        19.26   \n",
       "\n",
       "   survived  \n",
       "0      True  \n",
       "1      True  \n",
       "2      True  \n",
       "3      True  \n",
       "4      True  \n",
       "5      True  \n",
       "6      True  \n",
       "7      True  \n",
       "8      True  \n",
       "9      True  "
      ]
     },
     "metadata": {},
     "output_type": "display_data"
    }
   ],
   "source": [
    "import pandas as pd\n",
    "import numpy as np\n",
    "import re as re\n",
    "\n",
    "#load and process file\n",
    "def load(filename):\n",
    "    \n",
    "    #read csv as dataframe\n",
    "    df = pd.read_csv(filename, skiprows=5, header=0)\n",
    "    \n",
    "    #create new empty dataframe\n",
    "    result = pd.DataFrame(columns=[\"name\", \"sex\", \"age\", \"is_adult\", \"job\", \"class_dept\", \"is_passenger\", \"joined\", \"boat_body\", \"ticketprice\", \"survived\"])\n",
    "    \n",
    "    #create a df for all people and all tickets\n",
    "    people = df[df[\"Name\"].notnull()]\n",
    "    tickets = df[df[\"Name\"].isnull() & df[\"Ticket\"].notnull()]\n",
    "    \n",
    "    #fill columns\n",
    "    result[\"name\"] = people[\"Name\"]\n",
    "    result[\"sex\"] = result[\"name\"].apply(lambda name: sex(name))\n",
    "    result[\"age\"] = people[\"Age\"].apply(lambda lifetime: age(lifetime))\n",
    "    result[\"age\"] = result[\"age\"].fillna(-1).astype(int)  #fill nulls with -1 to convert column to dtype int\n",
    "    result[\"is_adult\"] = result[\"age\"].apply(lambda age: isAdult(age))\n",
    "    result[\"job\"] = people[\"Job\"]  \n",
    "    result[\"class_dept\"] = people[\"Class/Dept\"]\n",
    "    result[\"is_passenger\"] = result[\"class_dept\"].apply(lambda dept: isPassenger(dept))\n",
    "    result[\"joined\"] = people[\"Joined\"]\n",
    "    result[\"boat_body\"] = people[\"Boat [Body]\"]\n",
    "    #re-index tickets\n",
    "    tickets = tickets.set_index(tickets.index-1)\n",
    "    result[\"ticketprice\"] = tickets[\"Ticket\"].apply(lambda price: ticketPrice(price))\n",
    "    result[\"survived\"] = True if \"survivors\" in filename else False\n",
    "    \n",
    "    #sort result by name\n",
    "    result = result.sort_values(by=\"name\")\n",
    "    \n",
    "    #reset indices to gapless order\n",
    "    result = result.reset_index()\n",
    "    result = result.drop([\"index\"], axis=1)\n",
    "    \n",
    "    #return new dataframe\n",
    "    return result\n",
    "\n",
    "\n",
    "\n",
    "#get sexuality by name\n",
    "def sex(name):\n",
    "    #female = Mrs | Miss | Lady | Mlle | Sra.\n",
    "    #male = Mr | Sig. | Captain | Master | Colonel | ?\n",
    "    femaleMatch = re.search(r'Mrs|Miss|Lady|Mlle|Sra\\.', name) \n",
    "    if femaleMatch:\n",
    "        return \"Female\"\n",
    "    else:\n",
    "        return \"Male\"\n",
    "\n",
    "#get age\n",
    "def age(lifetime):\n",
    "    return lifetime if \"m\" not in str(lifetime) else 0\n",
    "\n",
    "#check if adult (age >= 18)\n",
    "def isAdult(age):\n",
    "    if(pd.notna(age)):\n",
    "        return True if int(age) >= 18 else False\n",
    "    else:\n",
    "        #returns None\n",
    "        return\n",
    "\n",
    "#check if it's a passenger\n",
    "def isPassenger(debt):\n",
    "    isPassenger = debt in [\"1st Class Passenger\", \"2nd Class Passenger\", \"3rd Class Passenger\"]\n",
    "    return isPassenger\n",
    "\n",
    "#get ticketprice as float\n",
    "def ticketPrice(price):\n",
    "    \n",
    "    #regex matching for pound, shilling and pence\n",
    "    pound = re.search(r'(£[0-9]*)', price).group().split(\"£\")[1]\n",
    "    shilling = re.search(r'([0-9]*s)', price)\n",
    "    pence = re.search(r'([0-9]*d)', price)\n",
    "    \n",
    "    #init default after decimal\n",
    "    afterDecimal = 0\n",
    "    \n",
    "    #convert shillings and pences to decimal\n",
    "    if (shilling is not None):\n",
    "        s = shilling.group().split(\"s\")[0]\n",
    "        afterDecimal += int(s)/20\n",
    "    if (pence is not None):\n",
    "        p = pence.group().split(\"d\")[0]\n",
    "        afterDecimal += int(p)/20/12\n",
    "    \n",
    "    #sum ticketprice\n",
    "    ticketprice = int(pound) + afterDecimal\n",
    "    \n",
    "    #return as float\n",
    "    return float(round(ticketprice, 2))\n",
    "\n",
    "\n",
    "\n",
    "#load and process files    \n",
    "victims = load('data/titanic_victims.csv')\n",
    "survivors = load('data/titanic_survivors.csv')\n",
    "\n",
    "#display first ten victims and survivor\n",
    "display(victims.head(10))\n",
    "display(survivors.head(10))"
   ]
  },
  {
   "cell_type": "markdown",
   "metadata": {
    "deletable": false,
    "editable": false,
    "nbgrader": {
     "cell_type": "markdown",
     "checksum": "f7e861d2c12e0ca5e04206a1dc86884e",
     "grade": false,
     "grade_id": "cell-207ea83b23603f1e",
     "locked": true,
     "schema_version": 3,
     "solution": false
    }
   },
   "source": [
    "### Aufgabe 2 (8 Punkte)\n",
    "\n",
    "Wieviele Personen sind es insgesamt?  \n",
    "\n",
    "Wieviele Personen ohne Ticketpreis?  \n",
    "\n",
    "Wieviele Personen ohne Altersangabe?  \n",
    "\n",
    "Wieviele Personen männlichen und weiblichen Geschlechts fanden sich gemäss unserem Datensatz auf der Titanic?  \n",
    "\n",
    "Wie viele Kinder, welchen Geschlechts?  \n",
    "\n",
    "Was war der durchschnittliche Preis für eine Fahrkarte?  \n",
    "\n",
    "Was war das Durchschnittsalter der Besatzungsmitglieder? Was war das Durchschnittsalter der Passagiere?"
   ]
  },
  {
   "cell_type": "code",
   "execution_count": 12,
   "metadata": {
    "deletable": false,
    "nbgrader": {
     "cell_type": "code",
     "checksum": "839c78de974cc72fdfd38654071168f4",
     "grade": true,
     "grade_id": "cell-8fb2fb6345810160",
     "locked": false,
     "points": 8,
     "schema_version": 3,
     "solution": true
    }
   },
   "outputs": [
    {
     "name": "stdout",
     "output_type": "stream",
     "text": [
      "Anzahl Personen insgesamt: 2208\n",
      "Anzahl Personen ohne Ticketpreis: 917\n",
      "  891 davon sind Besatzungsmitglieder, und 26 sind Passagiere\n",
      "Anzahl Personen ohne Altersangabe: 3\n",
      "Anzahl Männer: 1723, Anzahl Frauen: 485\n",
      "Anzahl Kinder [männlich]: 124\n",
      "Anzahl Kinder [weiblich]: 82\n",
      "Durchschnittlicher Ticketpreis (gerundet): 34.0\n",
      "Durchschnittsalter der Besatzungsmitglieder (gerundet): 32.0\n",
      "Durchschnittsalter der Passagiere (gerundet): 30.0\n"
     ]
    }
   ],
   "source": [
    "#return all children ( < 18)\n",
    "def children(data):\n",
    "    persons =  data[data[\"age\"].notnull()]\n",
    "    return persons[persons[\"age\"].astype(int) < 18]\n",
    "\n",
    "#return all passengers or non-passenger\n",
    "def passenger(data, isPassenger):\n",
    "    persons =  data[data[\"age\"].notnull()]\n",
    "    return persons.age[persons[\"is_passenger\"] == isPassenger].values\n",
    "\n",
    "#concat dataframes\n",
    "allPersons = pd.concat([victims, survivors])\n",
    "\n",
    "#print answers\n",
    "print(\"Anzahl Personen insgesamt: \"+str(len(allPersons)))\n",
    "print(\"Anzahl Personen ohne Ticketpreis: \"+str(len(allPersons[allPersons.ticketprice.isna()])))\n",
    "print(\"  891 davon sind Besatzungsmitglieder, und 26 sind Passagiere\")\n",
    "print(\"Anzahl Personen ohne Altersangabe: \"+str(len(allPersons[allPersons.age == -1])))\n",
    "print(\n",
    "    \"Anzahl Männer: \"+str(len(allPersons[allPersons.sex == \"Male\"]))+\", \"+ \n",
    "    \"Anzahl Frauen: \"+str(len(allPersons[allPersons.sex == \"Female\"]))\n",
    "     )\n",
    "print(\"Anzahl Kinder [männlich]: \"+str(len(children(allPersons[allPersons.sex == \"Male\"]))))\n",
    "print(\"Anzahl Kinder [weiblich]: \"+str(len(children(allPersons[allPersons.sex == \"Female\"]))))\n",
    "print(\"Durchschnittlicher Ticketpreis (gerundet): \"+str(np.around(np.mean(allPersons[\"ticketprice\"]))))\n",
    "print(\"Durchschnittsalter der Besatzungsmitglieder (gerundet): \"+str(np.around(np.mean(passenger(allPersons, False).astype(int)))))\n",
    "print(\"Durchschnittsalter der Passagiere (gerundet): \"+str(np.around(np.mean(passenger(allPersons, True).astype(int)))))\n"
   ]
  },
  {
   "cell_type": "markdown",
   "metadata": {
    "deletable": false,
    "editable": false,
    "nbgrader": {
     "cell_type": "markdown",
     "checksum": "95ff0fd426de597177bfc095e11cec47",
     "grade": false,
     "grade_id": "cell-4d7a01775a71c9de",
     "locked": true,
     "schema_version": 3,
     "solution": false
    }
   },
   "source": [
    "### Aufgabe 3 (3 Punkte)\n",
    "\n",
    "Erstelle eine Kreuztabelle von Einstiegsort und `class_dept`.  \n",
    "\n",
    "Visualisiere die Tabelle.  \n",
    "Wir wissen, dass die Titanic von *Belfast*, wo sie gebaut wurde, nach *Southhampton*, nach *Cherbourg* und dann nach *Queenstown* fuhr, bevor sie zur Atlantiküberfahrt auslief.  \n",
    "\n",
    "Diskutiere deine Erkenntnisse."
   ]
  },
  {
   "cell_type": "code",
   "execution_count": 13,
   "metadata": {
    "deletable": false,
    "nbgrader": {
     "cell_type": "code",
     "checksum": "afaac1abff3b18eb2f86c8bbef13f6a4",
     "grade": true,
     "grade_id": "cell-2f22259cab208507",
     "locked": false,
     "points": 2,
     "schema_version": 3,
     "solution": true
    }
   },
   "outputs": [
    {
     "data": {
      "text/html": [
       "<div>\n",
       "<style scoped>\n",
       "    .dataframe tbody tr th:only-of-type {\n",
       "        vertical-align: middle;\n",
       "    }\n",
       "\n",
       "    .dataframe tbody tr th {\n",
       "        vertical-align: top;\n",
       "    }\n",
       "\n",
       "    .dataframe thead th {\n",
       "        text-align: right;\n",
       "    }\n",
       "</style>\n",
       "<table border=\"1\" class=\"dataframe\">\n",
       "  <thead>\n",
       "    <tr style=\"text-align: right;\">\n",
       "      <th>joined</th>\n",
       "      <th>Belfast</th>\n",
       "      <th>Cherbourg</th>\n",
       "      <th>Queenstown</th>\n",
       "      <th>Southampton</th>\n",
       "    </tr>\n",
       "    <tr>\n",
       "      <th>class_dept</th>\n",
       "      <th></th>\n",
       "      <th></th>\n",
       "      <th></th>\n",
       "      <th></th>\n",
       "    </tr>\n",
       "  </thead>\n",
       "  <tbody>\n",
       "    <tr>\n",
       "      <th>1st Class Passenger</th>\n",
       "      <td>4</td>\n",
       "      <td>143</td>\n",
       "      <td>3</td>\n",
       "      <td>174</td>\n",
       "    </tr>\n",
       "    <tr>\n",
       "      <th>2nd Class Passenger</th>\n",
       "      <td>6</td>\n",
       "      <td>26</td>\n",
       "      <td>7</td>\n",
       "      <td>245</td>\n",
       "    </tr>\n",
       "    <tr>\n",
       "      <th>3rd Class Passenger</th>\n",
       "      <td>0</td>\n",
       "      <td>102</td>\n",
       "      <td>113</td>\n",
       "      <td>494</td>\n",
       "    </tr>\n",
       "    <tr>\n",
       "      <th>Deck Crew</th>\n",
       "      <td>24</td>\n",
       "      <td>0</td>\n",
       "      <td>0</td>\n",
       "      <td>42</td>\n",
       "    </tr>\n",
       "    <tr>\n",
       "      <th>Engineering Crew</th>\n",
       "      <td>44</td>\n",
       "      <td>0</td>\n",
       "      <td>0</td>\n",
       "      <td>281</td>\n",
       "    </tr>\n",
       "    <tr>\n",
       "      <th>Restaurant Staff</th>\n",
       "      <td>0</td>\n",
       "      <td>0</td>\n",
       "      <td>0</td>\n",
       "      <td>69</td>\n",
       "    </tr>\n",
       "    <tr>\n",
       "      <th>Victualling Crew</th>\n",
       "      <td>122</td>\n",
       "      <td>0</td>\n",
       "      <td>0</td>\n",
       "      <td>309</td>\n",
       "    </tr>\n",
       "  </tbody>\n",
       "</table>\n",
       "</div>"
      ],
      "text/plain": [
       "joined               Belfast  Cherbourg  Queenstown  Southampton\n",
       "class_dept                                                      \n",
       "1st Class Passenger        4        143           3          174\n",
       "2nd Class Passenger        6         26           7          245\n",
       "3rd Class Passenger        0        102         113          494\n",
       "Deck Crew                 24          0           0           42\n",
       "Engineering Crew          44          0           0          281\n",
       "Restaurant Staff           0          0           0           69\n",
       "Victualling Crew         122          0           0          309"
      ]
     },
     "metadata": {},
     "output_type": "display_data"
    },
    {
     "data": {
      "image/png": "[encoded data removed]",
      "text/plain": [
       "<Figure size 432x288 with 1 Axes>"
      ]
     },
     "metadata": {
      "needs_background": "light"
     },
     "output_type": "display_data"
    }
   ],
   "source": [
    "import matplotlib.pyplot as plt\n",
    "\n",
    "#create cross table\n",
    "joined = allPersons[\"joined\"]\n",
    "class_dept = allPersons[\"class_dept\"]\n",
    "crossTable = pd.crosstab(class_dept, joined)\n",
    "#display cross table\n",
    "display(crossTable)\n",
    "\n",
    "#visualize cross table as bar chart\n",
    "ax = crossTable.plot(kind=\"bar\")\n",
    "_ = ax.set_title(\"Visualisierung Kreuztabelle (Einstiesgort/Klasse)\")\n",
    "_ = ax.set_xlabel(\"Klasse\")\n",
    "_ = ax.set_ylabel(\"Anzahl Personen\")\n",
    "_ = ax.legend(title=\"Einstiegsort\", loc=\"upper left\")"
   ]
  },
  {
   "cell_type": "markdown",
   "metadata": {
    "deletable": false,
    "nbgrader": {
     "cell_type": "markdown",
     "checksum": "591fd4ad6d12f47a68050cd2e6c36f88",
     "grade": true,
     "grade_id": "cell-a1e262ce45e81602",
     "locked": false,
     "points": 1,
     "schema_version": 3,
     "solution": true
    }
   },
   "source": [
    "YOUR ANSWER HERE"
   ]
  },
  {
   "cell_type": "markdown",
   "metadata": {
    "deletable": false,
    "editable": false,
    "nbgrader": {
     "cell_type": "markdown",
     "checksum": "481d032d17416cde8f35e14c770f969f",
     "grade": false,
     "grade_id": "cell-117bf6f33d8eb084",
     "locked": true,
     "schema_version": 3,
     "solution": false,
     "task": false
    }
   },
   "source": [
    "### Aufgabe 4 (5 Punkte)\n",
    "\n",
    "Visualisiere die Altersverteilung für die beiden Geschlechter und gleichzeitig für die Variable `class_dept` mit Boxplots.  \n",
    "\n",
    "Diskutiere die Visualisierung.\n",
    "- Erkläre was ein Boxplot zeigt.\n",
    "- Was für Information fehlt?\n",
    "- Was können wir zu den vorliegenden Daten aus dieser Darstellung lesen?"
   ]
  },
  {
   "cell_type": "code",
   "execution_count": 24,
   "metadata": {
    "deletable": false,
    "nbgrader": {
     "cell_type": "code",
     "checksum": "b84db5ed8a26498001ed4f4c91781fcf",
     "grade": true,
     "grade_id": "cell-8d52292df9aef5f4",
     "locked": false,
     "points": 2,
     "schema_version": 3,
     "solution": true
    }
   },
   "outputs": [
    {
     "data": {
      "image/png": "[encoded data removed]",
      "text/plain": [
       "<Figure size 360x360 with 1 Axes>"
      ]
     },
     "metadata": {
      "needs_background": "light"
     },
     "output_type": "display_data"
    },
    {
     "data": {
      "image/png": "[encoded data removed]",
      "text/plain": [
       "<Figure size 360x360 with 1 Axes>"
      ]
     },
     "metadata": {
      "needs_background": "light"
     },
     "output_type": "display_data"
    }
   ],
   "source": [
    "import seaborn as sns\n",
    "\n",
    "#boxplot male/female\n",
    "ax1 = sns.catplot(data=allPersons, x=\"sex\", y=\"age\", kind=\"box\")\n",
    "_ = ax1.set(xlabel='Geschlecht', ylabel='Alter', title=\"Altersverteilung Männer und Frauen\")\n",
    "\n",
    "\n",
    "#boxplot diff class_depts\n",
    "ax2 = sns.catplot(data=allPersons, x=\"class_dept\", y=\"age\", kind=\"box\")\n",
    "_ = ax2.set(xlabel='Klasse', ylabel='Alter', title=\"Altersverteilung der versch. Klassen\")\n",
    "_ = ax2.set_xticklabels(rotation=80)"
   ]
  },
  {
   "cell_type": "markdown",
   "metadata": {
    "deletable": false,
    "nbgrader": {
     "cell_type": "markdown",
     "checksum": "538f5c54cda6ee80d9a4aa49d2cef330",
     "grade": true,
     "grade_id": "cell-522357d7ca7c0815",
     "locked": false,
     "points": 3,
     "schema_version": 3,
     "solution": true
    }
   },
   "source": [
    "YOUR ANSWER HERE"
   ]
  },
  {
   "cell_type": "markdown",
   "metadata": {
    "deletable": false,
    "editable": false,
    "nbgrader": {
     "cell_type": "markdown",
     "checksum": "aa3ffab985fc46bdfb43a8a3055f0591",
     "grade": false,
     "grade_id": "cell-de940ef5186007a4",
     "locked": true,
     "schema_version": 3,
     "solution": false
    }
   },
   "source": [
    "### Aufgabe 5 (4 Punkte)\n",
    "\n",
    "Zeichne die Verteilung des Alters sämtlicher Passagiere als Histogramm.  \n",
    "\n",
    "Beschreibe die Verteilung bezüglich Lage, Streuung und Form.  \n",
    "\n",
    "Du darfst verschiedene Ansätze verwenden und deren Resultate und Eigenschaften diskutieren."
   ]
  },
  {
   "cell_type": "code",
   "execution_count": 32,
   "metadata": {
    "deletable": false,
    "nbgrader": {
     "cell_type": "code",
     "checksum": "9d85e770aa6d1b13e4093447b1c546fd",
     "grade": true,
     "grade_id": "cell-f01b4c0ad9316fa9",
     "locked": false,
     "points": 3,
     "schema_version": 3,
     "solution": true
    }
   },
   "outputs": [
    {
     "data": {
      "image/png": "[encoded data removed]",
      "text/plain": [
       "<Figure size 1152x432 with 1 Axes>"
      ]
     },
     "metadata": {
      "needs_background": "light"
     },
     "output_type": "display_data"
    }
   ],
   "source": [
    "\n",
    "# histogram\n",
    "fig, ax = plt.subplots(nrows=1, ncols=1, figsize=(16,6))\n",
    "_ = ax.hist(allPersons[\"age\"], bins=\"fd\", color=\"cornflowerblue\", edgecolor=\"black\", linewidth=0.5)\n",
    "_ = ax.set_title(\"Altersverteilung\")\n",
    "# show histogram labels\n",
    "_ = ax.set_ylabel(\"Anzahl Personen\")\n",
    "_ = ax.set_xlabel(\"Alter\")"
   ]
  },
  {
   "cell_type": "markdown",
   "metadata": {
    "deletable": false,
    "nbgrader": {
     "cell_type": "markdown",
     "checksum": "21c8dfc70431930eea85c4cde6c9abb3",
     "grade": true,
     "grade_id": "cell-9b76cbb127b7095d",
     "locked": false,
     "points": 1,
     "schema_version": 3,
     "solution": true
    }
   },
   "source": [
    "YOUR ANSWER HERE"
   ]
  },
  {
   "cell_type": "markdown",
   "metadata": {
    "deletable": false,
    "editable": false,
    "nbgrader": {
     "cell_type": "markdown",
     "checksum": "0b5cbca0c0598e9765bbf52cc1517bfa",
     "grade": false,
     "grade_id": "cell-f2a21ef8278416fe",
     "locked": true,
     "schema_version": 3,
     "solution": false
    }
   },
   "source": [
    "### Aufgabe 6 (3 Punkte)\n",
    "\n",
    "Führe die Schritte aus Aufgabe 5 für den Ticketpreis aus.  \n",
    "\n",
    "Visualisiere zusätzlich die kumulative Verteilung.  \n",
    "\n",
    "Diskutiere deine Erkenntnisse."
   ]
  },
  {
   "cell_type": "code",
   "execution_count": null,
   "metadata": {
    "deletable": false,
    "nbgrader": {
     "cell_type": "code",
     "checksum": "5e14fc6c07fccc91951bdfa92a8e1878",
     "grade": true,
     "grade_id": "cell-5937418744d48531",
     "locked": false,
     "points": 2,
     "schema_version": 3,
     "solution": true
    }
   },
   "outputs": [],
   "source": [
    "# YOUR CODE HERE\n",
    "raise NotImplementedError()"
   ]
  },
  {
   "cell_type": "markdown",
   "metadata": {
    "deletable": false,
    "nbgrader": {
     "cell_type": "markdown",
     "checksum": "3e94c57bae996588a870c98da4104024",
     "grade": true,
     "grade_id": "cell-ee214286db6eb48d",
     "locked": false,
     "points": 1,
     "schema_version": 3,
     "solution": true
    }
   },
   "source": [
    "YOUR ANSWER HERE"
   ]
  },
  {
   "cell_type": "markdown",
   "metadata": {
    "deletable": false,
    "editable": false,
    "nbgrader": {
     "cell_type": "markdown",
     "checksum": "0497e3e9b076cbebbfa54e2b18e6e705",
     "grade": false,
     "grade_id": "cell-b8f95ee703ccede8",
     "locked": true,
     "schema_version": 3,
     "solution": false
    }
   },
   "source": [
    "### Aufgabe 7 (3 Punkte)\n",
    "\n",
    "Was sind die häufigsten 10 Berufe der Passagiere, welche oberhalb des $Q_{0.9}$-Quantils des Ticketpreises liegen?  \n",
    "\n",
    "Was sind die häufigsten 10 Berufe der Passagiere, welche unterhalb des $Q_{0.1}$-Quantils des Ticketpreises liegen?  \n",
    "\n",
    "Wie oft kommen die Berufe jeweils vor?  \n",
    "Wie interpretierst du das Resultat?"
   ]
  },
  {
   "cell_type": "code",
   "execution_count": null,
   "metadata": {
    "deletable": false,
    "nbgrader": {
     "cell_type": "code",
     "checksum": "f0bc25fab524bc325550c5de37dbf7c6",
     "grade": true,
     "grade_id": "cell-7e95afaa33b94398",
     "locked": false,
     "points": 2,
     "schema_version": 3,
     "solution": true
    }
   },
   "outputs": [],
   "source": [
    "# YOUR CODE HERE\n",
    "raise NotImplementedError()"
   ]
  },
  {
   "cell_type": "markdown",
   "metadata": {
    "deletable": false,
    "nbgrader": {
     "cell_type": "markdown",
     "checksum": "9420f277a2e0595e0f698d18e87155ea",
     "grade": true,
     "grade_id": "cell-661a75ac62d29f3d",
     "locked": false,
     "points": 1,
     "schema_version": 3,
     "solution": true
    }
   },
   "source": [
    "YOUR ANSWER HERE"
   ]
  },
  {
   "cell_type": "markdown",
   "metadata": {
    "deletable": false,
    "editable": false,
    "nbgrader": {
     "cell_type": "markdown",
     "checksum": "75abcc3e62b496c00136491c790bd6d0",
     "grade": false,
     "grade_id": "cell-f2f99921751f4d48",
     "locked": true,
     "schema_version": 3,
     "solution": false
    }
   },
   "source": [
    "### Aufgabe 8 (6 Punkte)\n",
    "\n",
    "Finde ein paar wenige Visualisierungen, welche es ermöglichen, kompakt einen Eindruck zu bekommen, wer das Unglück der Titanic am wahrscheinlichsten überlebt hat.  \n",
    "\n",
    "Was sind deine Erkenntnisse?"
   ]
  },
  {
   "cell_type": "code",
   "execution_count": null,
   "metadata": {
    "deletable": false,
    "nbgrader": {
     "cell_type": "code",
     "checksum": "b129797b3ec6a7d4ae56cb19bf9aa335",
     "grade": true,
     "grade_id": "cell-4e6953caaff51560",
     "locked": false,
     "points": 3,
     "schema_version": 3,
     "solution": true
    }
   },
   "outputs": [],
   "source": [
    "# YOUR CODE HERE\n",
    "raise NotImplementedError()"
   ]
  },
  {
   "cell_type": "markdown",
   "metadata": {
    "deletable": false,
    "nbgrader": {
     "cell_type": "markdown",
     "checksum": "58cab7d7867f571cbbda9cbc7cb1ca4e",
     "grade": true,
     "grade_id": "cell-595efdc404624722",
     "locked": false,
     "points": 3,
     "schema_version": 3,
     "solution": true
    }
   },
   "source": [
    "YOUR ANSWER HERE"
   ]
  },
  {
   "cell_type": "markdown",
   "metadata": {
    "deletable": false,
    "editable": false,
    "nbgrader": {
     "cell_type": "markdown",
     "checksum": "c2baf3e330543a65f7ebe9218f936d09",
     "grade": false,
     "grade_id": "cell-17a949bb3f1f60ee",
     "locked": true,
     "schema_version": 3,
     "solution": false
    }
   },
   "source": [
    "### Aufgabe 9 (6 Punkte)\n",
    "\n",
    "Untersuche nun, ob das Alter einen Einfluss auf die Überlebenswahrscheinlichkeit hatte.  \n",
    "\n",
    "Teile die Passagiere dazu in Gruppen von Geschlecht und Altersjahrzenten ein.  \n",
    "\n",
    "Visualisiere die Resultate übersichtlich und diskutiere diese.  "
   ]
  },
  {
   "cell_type": "code",
   "execution_count": null,
   "metadata": {
    "deletable": false,
    "nbgrader": {
     "cell_type": "code",
     "checksum": "2ace725e47f4c1c3ddd6e91691dfe0e6",
     "grade": true,
     "grade_id": "cell-72902c8d15d75e6f",
     "locked": false,
     "points": 4,
     "schema_version": 3,
     "solution": true
    }
   },
   "outputs": [],
   "source": [
    "# YOUR CODE HERE\n",
    "raise NotImplementedError()"
   ]
  },
  {
   "cell_type": "markdown",
   "metadata": {
    "deletable": false,
    "nbgrader": {
     "cell_type": "markdown",
     "checksum": "695de72dd7b7708b71526d5648af253c",
     "grade": true,
     "grade_id": "cell-cea72be4ed8fb883",
     "locked": false,
     "points": 2,
     "schema_version": 3,
     "solution": true
    }
   },
   "source": [
    "YOUR ANSWER HERE"
   ]
  }
 ],
 "metadata": {
  "interpreter": {
   "hash": "e80d07823cb130432dd427dd7858a22778816ee894290be9ed25ee67037a2bc3"
  },
  "kernelspec": {
   "display_name": "Python 3 (ipykernel)",
   "language": "python",
   "name": "python3"
  },
  "language_info": {
   "codemirror_mode": {
    "name": "ipython",
    "version": 3
   },
   "file_extension": ".py",
   "mimetype": "text/x-python",
   "name": "python",
   "nbconvert_exporter": "python",
   "pygments_lexer": "ipython3",
   "version": "3.9.6"
  },
  "widgets": {
   "state": {
    "dbc998941ccc427b90355fd1d11b0c07": {
     "views": [
      {
       "cell_index": 25
      }
     ]
    }
   },
   "version": "1.2.0"
  }
 },
 "nbformat": 4,
 "nbformat_minor": 4
}
