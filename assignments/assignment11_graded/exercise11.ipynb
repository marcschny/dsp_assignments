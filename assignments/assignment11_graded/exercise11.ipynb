{
 "cells": [
  {
   "cell_type": "markdown",
   "metadata": {
    "deletable": false,
    "editable": false,
    "nbgrader": {
     "cell_type": "markdown",
     "checksum": "c1750f9366b141a3af917d83713fbdd7",
     "grade": false,
     "grade_id": "header",
     "locked": true,
     "schema_version": 3,
     "solution": false
    }
   },
   "source": [
    "# DSP - Aufgabenblatt 11\n",
    "\n",
    "## Bewertete Übung\n",
    "\n",
    "#### FHNW - HS2021"
   ]
  },
  {
   "cell_type": "markdown",
   "metadata": {
    "deletable": false,
    "editable": false,
    "nbgrader": {
     "cell_type": "markdown",
     "checksum": "1059993e0528e7f4ed4b0e3b5ee3260c",
     "grade": false,
     "grade_id": "cell-f66de17fc6068da5",
     "locked": true,
     "schema_version": 3,
     "solution": false
    }
   },
   "source": [
    "#### Vorgaben für die Zusammenarbeit\n",
    "\n",
    "Ihr dürft für die Lösung der Übung zusammenarbeiten, so lange sich eure **Zusammenarbeit auf konzeptionelle und algorithmische Fragestellungen beschränkt**. Bei kopiertem Code oder Text (von Mitstudierenden oder dem Internet) werden alle Lösungen der beteiligten Parteien mit 0 Punkten bewertet. Dazu werden alle Lösungen manuell und automatisiert auf Kopien untersucht.  \n",
    "\n",
    "#### Abgabe\n",
    "\n",
    "Arbeite auf einem eigenen Fork des Repositories `https://gitlab.fhnw.ch/ml/courses/dsp/dsp_hs2021` zu welchem du @michael.graber und @florian.schaerer als *Maintainer* hinzufügst. Committe regelmässig. Als Abgabe gilt der **letzte Commit bis Freitag, 31. Dezember 2021, 23:59:59 Uhr**."
   ]
  },
  {
   "cell_type": "markdown",
   "metadata": {
    "deletable": false,
    "editable": false,
    "nbgrader": {
     "cell_type": "markdown",
     "checksum": "75a301996e165c24f18a878b06f5d130",
     "grade": false,
     "grade_id": "cell-decacecdd1529d0d",
     "locked": true,
     "schema_version": 3,
     "solution": false
    }
   },
   "source": [
    "#### Hinweise\n",
    "- Der *Code* muss von Anfang bis Ende durchlaufen. Es wird nur Code bewertet, welcher beim automatischen Durchlaufen ausgeführt wird.    \n",
    "- Beschrifte sämtliche Achsen (Bezeichnung und Einheit wenn möglich).  \n",
    "- Ergänze den Plot mit zusätzlicher Beschriftung falls dies zum Verständnis des Plots notwendig ist.  \n",
    "- Wenn du einen Plot in einer Antwort diskutierst, beginne mit einer Beschreibung dessen was der Plot zeigt.  \n",
    "\n",
    "\n",
    "- Sämtliche Variablen die in einer von dir definierten Funktionen verwendet werden, müssen als Argumente übergeben oder innerhalb der Funktion definiert werden.\n",
    "- Selbst definierte Funktionen müssen einen (kurzen) docstring haben.\n",
    "\n",
    "\n",
    "- Versuche eine kompakte und performante Implementierung zu finden. Vollständige Punktzahl erreichst du bloss mit performantem *Code*.  \n",
    "- Verwende dazu, wo immer möglich und sinnvoll, Funktionen aus `pandas` und `numpy`.\n",
    "- Vermeide *Loops* falls möglich."
   ]
  },
  {
   "cell_type": "markdown",
   "metadata": {
    "deletable": false,
    "editable": false,
    "nbgrader": {
     "cell_type": "markdown",
     "checksum": "1e18e4e7b9d8b19547930a4c3573c0ee",
     "grade": false,
     "grade_id": "cell-4e580db29af0a865",
     "locked": true,
     "schema_version": 3,
     "solution": false
    }
   },
   "source": [
    "Am 14. April 1912 ist die Titanic vor der Küste Neufundlands auf ihrer Jungfernfahrt mit einem Eisberg kollidiert und sank kanpp 3 Stunden später in den frühen Morgenstunden des 15. Aprils. Von den ca 2224 Passagieren und Crewmitgliedern starben rund 1500.  \n",
    "\n",
    "Auf der Website https://www.encyclopedia-titanica.org/ können Passagier- und Crewlisten runtergeladen werden. Ich habe euch zwei Dateien bereitgestellt: 'data/titanic_survivors.csv' und 'data/titanic_victims.csv'. Sie beinhalten jeweils die Überlebenden und Opfer des Unglücks.  \n",
    "\n",
    "Wir werden in dieser Übung die Personen hinter diesem Unglück miteinander untersuchen."
   ]
  },
  {
   "cell_type": "markdown",
   "metadata": {
    "deletable": false,
    "editable": false,
    "nbgrader": {
     "cell_type": "markdown",
     "checksum": "53c178024077ccf65a52cd523b40693d",
     "grade": false,
     "grade_id": "cell-d0b1658323be9aa7",
     "locked": true,
     "schema_version": 3,
     "solution": false
    }
   },
   "source": [
    "### Aufgabe 1 (10 Punkte)  \n",
    "\n",
    "Schreibe eine Funktion, mit welcher du die beiden Dateien laden und präprozessieren kannst.  \n",
    "\n",
    "Die Funktion soll ein `DataFrame` zurückgeben mit folgenden Spalten: `'name', 'sex', 'age', 'is_adult', 'job', 'class_dept', 'is_passenger', 'joined', 'boat_body', 'ticketprice', 'survived',`.  \n",
    "\n",
    "\n",
    "- Der Ticketpreis steht bei Passagieren jeweils auf der folgenden Zeile im Feld `Ticket`. Extrahiere Pfund, Shilling und Pence mittels *regular expression-matching* auf dem `DataFrame`.\n",
    "- Berechne einen Dezimalbetrag in Pfund gemäss dem folgenden Satz: *'There were 12 pence in a shilling and 20 shillings in a pound.'* \n",
    "- Leite das Geschlecht `sex` aus dem Namen, insbesondere aus der Anrede, ab. Finde eine geeignete `pandas`-Methode für das *Mapping*.\n",
    "- Berechnene das Alter für alle Personen in Jahren (`m` steht für *months*).\n",
    "- `is_passenger` soll `True` sein, falls `class_dept` in `['1st Class Passenger', '2nd Class Passenger', '3rd Class Passenger',]` ist.  \n",
    "- Sortiere das `DataFrame` nach dem Familiennamen.\n",
    "\n",
    "Jeder *for-Loop* gibt 2 Punkte Abzug.  \n",
    "\n",
    "Lade die Daten und gib die ersten 10 Zeilen aus."
   ]
  },
  {
   "cell_type": "code",
   "execution_count": null,
   "metadata": {
    "deletable": false,
    "nbgrader": {
     "cell_type": "code",
     "checksum": "415e716d849f73ac7a5c86d5af1106be",
     "grade": true,
     "grade_id": "cell-8478028c8583e471",
     "locked": false,
     "points": 10,
     "schema_version": 3,
     "solution": true
    }
   },
   "outputs": [],
   "source": [
    "# YOUR CODE HERE\n",
    "raise NotImplementedError()"
   ]
  },
  {
   "cell_type": "markdown",
   "metadata": {
    "deletable": false,
    "editable": false,
    "nbgrader": {
     "cell_type": "markdown",
     "checksum": "f7e861d2c12e0ca5e04206a1dc86884e",
     "grade": false,
     "grade_id": "cell-207ea83b23603f1e",
     "locked": true,
     "schema_version": 3,
     "solution": false
    }
   },
   "source": [
    "### Aufgabe 2 (8 Punkte)\n",
    "\n",
    "Wieviele Personen sind es insgesamt?  \n",
    "\n",
    "Wieviele Personen ohne Ticketpreis?  \n",
    "\n",
    "Wieviele Personen ohne Altersangabe?  \n",
    "\n",
    "Wieviele Personen männlichen und weiblichen Geschlechts fanden sich gemäss unserem Datensatz auf der Titanic?  \n",
    "\n",
    "Wie viele Kinder, welchen Geschlechts?  \n",
    "\n",
    "Was war der durchschnittliche Preis für eine Fahrkarte?  \n",
    "\n",
    "Was war das Durchschnittsalter der Besatzungsmitglieder? Was war das Durchschnittsalter der Passagiere?"
   ]
  },
  {
   "cell_type": "code",
   "execution_count": null,
   "metadata": {
    "deletable": false,
    "nbgrader": {
     "cell_type": "code",
     "checksum": "839c78de974cc72fdfd38654071168f4",
     "grade": true,
     "grade_id": "cell-8fb2fb6345810160",
     "locked": false,
     "points": 8,
     "schema_version": 3,
     "solution": true
    }
   },
   "outputs": [],
   "source": [
    "# YOUR CODE HERE\n",
    "raise NotImplementedError()"
   ]
  },
  {
   "cell_type": "markdown",
   "metadata": {
    "deletable": false,
    "editable": false,
    "nbgrader": {
     "cell_type": "markdown",
     "checksum": "95ff0fd426de597177bfc095e11cec47",
     "grade": false,
     "grade_id": "cell-4d7a01775a71c9de",
     "locked": true,
     "schema_version": 3,
     "solution": false
    }
   },
   "source": [
    "### Aufgabe 3 (3 Punkte)\n",
    "\n",
    "Erstelle eine Kreuztabelle von Einstiegsort und `class_dept`.  \n",
    "\n",
    "Visualisiere die Tabelle.  \n",
    "Wir wissen, dass die Titanic von *Belfast*, wo sie gebaut wurde, nach *Southhampton*, nach *Cherbourg* und dann nach *Queenstown* fuhr, bevor sie zur Atlantiküberfahrt auslief.  \n",
    "\n",
    "Diskutiere deine Erkenntnisse."
   ]
  },
  {
   "cell_type": "code",
   "execution_count": null,
   "metadata": {
    "deletable": false,
    "nbgrader": {
     "cell_type": "code",
     "checksum": "afaac1abff3b18eb2f86c8bbef13f6a4",
     "grade": true,
     "grade_id": "cell-2f22259cab208507",
     "locked": false,
     "points": 2,
     "schema_version": 3,
     "solution": true
    }
   },
   "outputs": [],
   "source": [
    "# YOUR CODE HERE\n",
    "raise NotImplementedError()"
   ]
  },
  {
   "cell_type": "markdown",
   "metadata": {
    "deletable": false,
    "nbgrader": {
     "cell_type": "markdown",
     "checksum": "591fd4ad6d12f47a68050cd2e6c36f88",
     "grade": true,
     "grade_id": "cell-a1e262ce45e81602",
     "locked": false,
     "points": 1,
     "schema_version": 3,
     "solution": true
    }
   },
   "source": [
    "YOUR ANSWER HERE"
   ]
  },
  {
   "cell_type": "markdown",
   "metadata": {
    "deletable": false,
    "editable": false,
    "nbgrader": {
     "cell_type": "markdown",
     "checksum": "481d032d17416cde8f35e14c770f969f",
     "grade": false,
     "grade_id": "cell-117bf6f33d8eb084",
     "locked": true,
     "schema_version": 3,
     "solution": false,
     "task": false
    }
   },
   "source": [
    "### Aufgabe 4 (5 Punkte)\n",
    "\n",
    "Visualisiere die Altersverteilung für die beiden Geschlechter und gleichzeitig für die Variable `class_dept` mit Boxplots.  \n",
    "\n",
    "Diskutiere die Visualisierung.\n",
    "- Erkläre was ein Boxplot zeigt.\n",
    "- Was für Information fehlt?\n",
    "- Was können wir zu den vorliegenden Daten aus dieser Darstellung lesen?"
   ]
  },
  {
   "cell_type": "code",
   "execution_count": null,
   "metadata": {
    "deletable": false,
    "nbgrader": {
     "cell_type": "code",
     "checksum": "b84db5ed8a26498001ed4f4c91781fcf",
     "grade": true,
     "grade_id": "cell-8d52292df9aef5f4",
     "locked": false,
     "points": 2,
     "schema_version": 3,
     "solution": true
    }
   },
   "outputs": [],
   "source": [
    "# YOUR CODE HERE\n",
    "raise NotImplementedError()"
   ]
  },
  {
   "cell_type": "markdown",
   "metadata": {
    "deletable": false,
    "nbgrader": {
     "cell_type": "markdown",
     "checksum": "538f5c54cda6ee80d9a4aa49d2cef330",
     "grade": true,
     "grade_id": "cell-522357d7ca7c0815",
     "locked": false,
     "points": 3,
     "schema_version": 3,
     "solution": true
    }
   },
   "source": [
    "YOUR ANSWER HERE"
   ]
  },
  {
   "cell_type": "markdown",
   "metadata": {
    "deletable": false,
    "editable": false,
    "nbgrader": {
     "cell_type": "markdown",
     "checksum": "aa3ffab985fc46bdfb43a8a3055f0591",
     "grade": false,
     "grade_id": "cell-de940ef5186007a4",
     "locked": true,
     "schema_version": 3,
     "solution": false
    }
   },
   "source": [
    "### Aufgabe 5 (4 Punkte)\n",
    "\n",
    "Zeichne die Verteilung des Alters sämtlicher Passagiere als Histogramm.  \n",
    "\n",
    "Beschreibe die Verteilung bezüglich Lage, Streuung und Form.  \n",
    "\n",
    "Du darfst verschiedene Ansätze verwenden und deren Resultate und Eigenschaften diskutieren."
   ]
  },
  {
   "cell_type": "code",
   "execution_count": null,
   "metadata": {
    "deletable": false,
    "nbgrader": {
     "cell_type": "code",
     "checksum": "9d85e770aa6d1b13e4093447b1c546fd",
     "grade": true,
     "grade_id": "cell-f01b4c0ad9316fa9",
     "locked": false,
     "points": 3,
     "schema_version": 3,
     "solution": true
    }
   },
   "outputs": [],
   "source": [
    "# YOUR CODE HERE\n",
    "raise NotImplementedError()"
   ]
  },
  {
   "cell_type": "markdown",
   "metadata": {
    "deletable": false,
    "nbgrader": {
     "cell_type": "markdown",
     "checksum": "21c8dfc70431930eea85c4cde6c9abb3",
     "grade": true,
     "grade_id": "cell-9b76cbb127b7095d",
     "locked": false,
     "points": 1,
     "schema_version": 3,
     "solution": true
    }
   },
   "source": [
    "YOUR ANSWER HERE"
   ]
  },
  {
   "cell_type": "markdown",
   "metadata": {
    "deletable": false,
    "editable": false,
    "nbgrader": {
     "cell_type": "markdown",
     "checksum": "0b5cbca0c0598e9765bbf52cc1517bfa",
     "grade": false,
     "grade_id": "cell-f2a21ef8278416fe",
     "locked": true,
     "schema_version": 3,
     "solution": false
    }
   },
   "source": [
    "### Aufgabe 6 (3 Punkte)\n",
    "\n",
    "Führe die Schritte aus Aufgabe 5 für den Ticketpreis aus.  \n",
    "\n",
    "Visualisiere zusätzlich die kumulative Verteilung.  \n",
    "\n",
    "Diskutiere deine Erkenntnisse."
   ]
  },
  {
   "cell_type": "code",
   "execution_count": null,
   "metadata": {
    "deletable": false,
    "nbgrader": {
     "cell_type": "code",
     "checksum": "5e14fc6c07fccc91951bdfa92a8e1878",
     "grade": true,
     "grade_id": "cell-5937418744d48531",
     "locked": false,
     "points": 2,
     "schema_version": 3,
     "solution": true
    }
   },
   "outputs": [],
   "source": [
    "# YOUR CODE HERE\n",
    "raise NotImplementedError()"
   ]
  },
  {
   "cell_type": "markdown",
   "metadata": {
    "deletable": false,
    "nbgrader": {
     "cell_type": "markdown",
     "checksum": "3e94c57bae996588a870c98da4104024",
     "grade": true,
     "grade_id": "cell-ee214286db6eb48d",
     "locked": false,
     "points": 1,
     "schema_version": 3,
     "solution": true
    }
   },
   "source": [
    "YOUR ANSWER HERE"
   ]
  },
  {
   "cell_type": "markdown",
   "metadata": {
    "deletable": false,
    "editable": false,
    "nbgrader": {
     "cell_type": "markdown",
     "checksum": "0497e3e9b076cbebbfa54e2b18e6e705",
     "grade": false,
     "grade_id": "cell-b8f95ee703ccede8",
     "locked": true,
     "schema_version": 3,
     "solution": false
    }
   },
   "source": [
    "### Aufgabe 7 (3 Punkte)\n",
    "\n",
    "Was sind die häufigsten 10 Berufe der Passagiere, welche oberhalb des $Q_{0.9}$-Quantils des Ticketpreises liegen?  \n",
    "\n",
    "Was sind die häufigsten 10 Berufe der Passagiere, welche unterhalb des $Q_{0.1}$-Quantils des Ticketpreises liegen?  \n",
    "\n",
    "Wie oft kommen die Berufe jeweils vor?  \n",
    "Wie interpretierst du das Resultat?"
   ]
  },
  {
   "cell_type": "code",
   "execution_count": null,
   "metadata": {
    "deletable": false,
    "nbgrader": {
     "cell_type": "code",
     "checksum": "f0bc25fab524bc325550c5de37dbf7c6",
     "grade": true,
     "grade_id": "cell-7e95afaa33b94398",
     "locked": false,
     "points": 2,
     "schema_version": 3,
     "solution": true
    }
   },
   "outputs": [],
   "source": [
    "# YOUR CODE HERE\n",
    "raise NotImplementedError()"
   ]
  },
  {
   "cell_type": "markdown",
   "metadata": {
    "deletable": false,
    "nbgrader": {
     "cell_type": "markdown",
     "checksum": "9420f277a2e0595e0f698d18e87155ea",
     "grade": true,
     "grade_id": "cell-661a75ac62d29f3d",
     "locked": false,
     "points": 1,
     "schema_version": 3,
     "solution": true
    }
   },
   "source": [
    "YOUR ANSWER HERE"
   ]
  },
  {
   "cell_type": "markdown",
   "metadata": {
    "deletable": false,
    "editable": false,
    "nbgrader": {
     "cell_type": "markdown",
     "checksum": "75abcc3e62b496c00136491c790bd6d0",
     "grade": false,
     "grade_id": "cell-f2f99921751f4d48",
     "locked": true,
     "schema_version": 3,
     "solution": false
    }
   },
   "source": [
    "### Aufgabe 8 (6 Punkte)\n",
    "\n",
    "Finde ein paar wenige Visualisierungen, welche es ermöglichen, kompakt einen Eindruck zu bekommen, wer das Unglück der Titanic am wahrscheinlichsten überlebt hat.  \n",
    "\n",
    "Was sind deine Erkenntnisse?"
   ]
  },
  {
   "cell_type": "code",
   "execution_count": null,
   "metadata": {
    "deletable": false,
    "nbgrader": {
     "cell_type": "code",
     "checksum": "b129797b3ec6a7d4ae56cb19bf9aa335",
     "grade": true,
     "grade_id": "cell-4e6953caaff51560",
     "locked": false,
     "points": 3,
     "schema_version": 3,
     "solution": true
    }
   },
   "outputs": [],
   "source": [
    "# YOUR CODE HERE\n",
    "raise NotImplementedError()"
   ]
  },
  {
   "cell_type": "markdown",
   "metadata": {
    "deletable": false,
    "nbgrader": {
     "cell_type": "markdown",
     "checksum": "58cab7d7867f571cbbda9cbc7cb1ca4e",
     "grade": true,
     "grade_id": "cell-595efdc404624722",
     "locked": false,
     "points": 3,
     "schema_version": 3,
     "solution": true
    }
   },
   "source": [
    "YOUR ANSWER HERE"
   ]
  },
  {
   "cell_type": "markdown",
   "metadata": {
    "deletable": false,
    "editable": false,
    "nbgrader": {
     "cell_type": "markdown",
     "checksum": "c2baf3e330543a65f7ebe9218f936d09",
     "grade": false,
     "grade_id": "cell-17a949bb3f1f60ee",
     "locked": true,
     "schema_version": 3,
     "solution": false
    }
   },
   "source": [
    "### Aufgabe 9 (6 Punkte)\n",
    "\n",
    "Untersuche nun, ob das Alter einen Einfluss auf die Überlebenswahrscheinlichkeit hatte.  \n",
    "\n",
    "Teile die Passagiere dazu in Gruppen von Geschlecht und Altersjahrzenten ein.  \n",
    "\n",
    "Visualisiere die Resultate übersichtlich und diskutiere diese.  "
   ]
  },
  {
   "cell_type": "code",
   "execution_count": null,
   "metadata": {
    "deletable": false,
    "nbgrader": {
     "cell_type": "code",
     "checksum": "2ace725e47f4c1c3ddd6e91691dfe0e6",
     "grade": true,
     "grade_id": "cell-72902c8d15d75e6f",
     "locked": false,
     "points": 4,
     "schema_version": 3,
     "solution": true
    }
   },
   "outputs": [],
   "source": [
    "# YOUR CODE HERE\n",
    "raise NotImplementedError()"
   ]
  },
  {
   "cell_type": "markdown",
   "metadata": {
    "deletable": false,
    "nbgrader": {
     "cell_type": "markdown",
     "checksum": "695de72dd7b7708b71526d5648af253c",
     "grade": true,
     "grade_id": "cell-cea72be4ed8fb883",
     "locked": false,
     "points": 2,
     "schema_version": 3,
     "solution": true
    }
   },
   "source": [
    "YOUR ANSWER HERE"
   ]
  }
 ],
 "metadata": {
  "interpreter": {
   "hash": "e80d07823cb130432dd427dd7858a22778816ee894290be9ed25ee67037a2bc3"
  },
  "kernelspec": {
   "display_name": "Python 3 (ipykernel)",
   "language": "python",
   "name": "python3"
  },
  "language_info": {
   "codemirror_mode": {
    "name": "ipython",
    "version": 3
   },
   "file_extension": ".py",
   "mimetype": "text/x-python",
   "name": "python",
   "nbconvert_exporter": "python",
   "pygments_lexer": "ipython3",
   "version": "3.9.6"
  },
  "widgets": {
   "state": {
    "dbc998941ccc427b90355fd1d11b0c07": {
     "views": [
      {
       "cell_index": 25
      }
     ]
    }
   },
   "version": "1.2.0"
  }
 },
 "nbformat": 4,
 "nbformat_minor": 4
}
