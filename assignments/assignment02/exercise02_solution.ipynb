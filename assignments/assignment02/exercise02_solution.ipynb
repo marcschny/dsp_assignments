{
 "cells": [
  {
   "cell_type": "markdown",
   "metadata": {
    "nbgrader": {
     "grade": false,
     "grade_id": "header",
     "locked": true,
     "schema_version": 1,
     "solution": false
    }
   },
   "source": [
    "# DSP - Aufgabenblatt 2\n",
    "#### FHNW - HS2021"
   ]
  },
  {
   "cell_type": "markdown",
   "metadata": {
    "nbgrader": {
     "grade": false,
     "grade_id": "cell-66340a1a529a0ed8",
     "locked": true,
     "schema_version": 1,
     "solution": false
    }
   },
   "source": [
    "## Jupyter notebooks,  `python`-Basics"
   ]
  },
  {
   "cell_type": "markdown",
   "metadata": {
    "nbgrader": {
     "grade": false,
     "grade_id": "cell-571bc1ca4e48501d",
     "locked": true,
     "schema_version": 1,
     "solution": false
    }
   },
   "source": [
    "### Aufgabe 1\n",
    "\n",
    "Implementieren Sie eine Klasse für ein Rechteck parallel zu den Koordinatenachsen, welches mit zwei Punkten initialisiert werden kann.  \n",
    "\n",
    "Fügen Sie der Klasse dann eine Methode hinzu, welche für einen weiteren Punkt zurückgibt, ob der Punkt innerhalb des Rechtecks liegt oder nicht.  \n",
    "\n",
    "Eine weitere Methode soll die Fläche des Rechtecks berechnen.  \n",
    "\n",
    "Zeigen Sie, dass ihr Klasse wie zu erwarten funktioniert."
   ]
  },
  {
   "cell_type": "code",
   "execution_count": 1,
   "metadata": {},
   "outputs": [],
   "source": [
    "class Rectangle():\n",
    "    \n",
    "    def __init__(self, point1, point2):\n",
    "        '''A Rectangle defined by two points.\n",
    "        '''\n",
    "        self.xmin = min(point1[0], point2[0])\n",
    "        self.xmax = max(point1[0], point2[0])\n",
    "        self.ymin = min(point1[1], point2[1])\n",
    "        self.ymax = max(point1[1], point2[1])\n",
    "        \n",
    "    def __contains__(self, p):\n",
    "        return p[0]>=self.xmin and p[0]<=self.xmax and p[1]>=self.ymin and p[1]<=self.ymax\n",
    "    \n",
    "    @property\n",
    "    def area(self):\n",
    "        return (self.xmax-self.xmin)*(self.ymax-self.ymin)"
   ]
  },
  {
   "cell_type": "code",
   "execution_count": 2,
   "metadata": {},
   "outputs": [
    {
     "data": {
      "text/plain": [
       "True"
      ]
     },
     "execution_count": 2,
     "metadata": {},
     "output_type": "execute_result"
    }
   ],
   "source": [
    "r = Rectangle((0,0), (4, 4))\n",
    "(1,1) in r"
   ]
  },
  {
   "cell_type": "code",
   "execution_count": 3,
   "metadata": {},
   "outputs": [
    {
     "data": {
      "text/plain": [
       "16"
      ]
     },
     "execution_count": 3,
     "metadata": {},
     "output_type": "execute_result"
    }
   ],
   "source": [
    "r.area"
   ]
  },
  {
   "cell_type": "markdown",
   "metadata": {
    "nbgrader": {
     "grade": false,
     "grade_id": "cell-3efb313c07cd29f7",
     "locked": true,
     "schema_version": 1,
     "solution": false
    }
   },
   "source": [
    "### Aufgabe 2\n",
    "\n",
    "Ergänzen Sie die Folgende Klasse für einen Vektor in zwei Dimensionen um Methoden, welche\n",
    "\n",
    "1. Vektoraddition, Subtraktion und Multplikation mit einem Skalar berechnet, unter Verwendung der Operatoren `+, -, *`.\n",
    "2. Die Koordinaten des Vektors in [Polarkoordinaten](https://de.wikipedia.org/wiki/Polarkoordinaten) zurückgibt\n",
    "3. eine Rotation des Vektors um den Ursprung ausführt.\n",
    "4. die Länge des Vektors als Resultat der Funktion `len` zurückgibt.\n",
    "\n",
    "Durch aufrufen der Methode `plot`, können Sie den Vektor zeichnen.  \n",
    "\n",
    "Zeigen Sie, dass ihr Klasse wie zu erwarten funktioniert."
   ]
  },
  {
   "cell_type": "code",
   "execution_count": 4,
   "metadata": {
    "nbgrader": {
     "grade": false,
     "grade_id": "cell-84a156f30f24aa25",
     "locked": true,
     "schema_version": 1,
     "solution": false
    }
   },
   "outputs": [],
   "source": [
    "import matplotlib.pyplot as plt\n",
    "%matplotlib inline\n",
    "\n",
    "import seaborn as sns\n",
    "sns.set_style('whitegrid')"
   ]
  },
  {
   "cell_type": "code",
   "execution_count": 5,
   "metadata": {
    "nbgrader": {
     "grade": true,
     "grade_id": "cell-1a6ed980931fe038",
     "locked": false,
     "points": 0,
     "schema_version": 1,
     "solution": true
    }
   },
   "outputs": [],
   "source": [
    "from math import sqrt, atan, sin, cos, pi\n",
    "\n",
    "class Vector():\n",
    "    '''\n",
    "    '''\n",
    "    \n",
    "    def __init__(self, x1, x2):\n",
    "        '''A Vector in 2D that extends from x1 to x2.\n",
    "        \n",
    "        Arguments\n",
    "        ---------\n",
    "        x1 : Tuple of two numerical values\n",
    "        x2 : Tuple of two numerical values\n",
    "        \n",
    "        '''\n",
    "        self.x1 = x1\n",
    "        self.x2 = x2\n",
    "    \n",
    "    @property\n",
    "    def dir_vec(self):\n",
    "        return (self.x2[0]-self.x1[0], self.x2[1]-self.x1[0])\n",
    "            \n",
    "    def plot(self, color='r'):\n",
    "        '''Draws the vector into a coordinate system.\n",
    "        \n",
    "        You can provide an axes to plot into and specify\n",
    "        the color of the vector line.\n",
    "        '''\n",
    "        fig, ax = plt.subplots(figsize = (5,5))\n",
    "        # central grid\n",
    "        ax.axvline(x=0, color='k', linestyle='--')\n",
    "        ax.axhline(y=0, color='k', linestyle='--')\n",
    "        #ax.plot([self.x1[0], self.x2[0]],[self.x1[1],self.x2[1]], c=color, lw=3)\n",
    "        ax.arrow(self.x1[0], self.x1[1], self.x2[0]-self.x1[0], self.x2[1]-self.x1[1], head_width=.3,\n",
    "        head_length=.6, fc='r', ec='r', lw=3)\n",
    "        lim = max(abs(self.x1[0]), abs(self.x2[0]), abs(self.x1[1]), abs(self.x2[1]),)\n",
    "        lims = (-lim-2*lim*0.5, lim+2*lim*0.5)\n",
    "        ax.set_xlim(*lims)\n",
    "        ax.set_ylim(*lims)\n",
    "        return fig, ax\n",
    "    \n",
    "    def __add__(self, v):\n",
    "        if type(v) != Vector:\n",
    "            raise ValueError('You can only add a Vector to a Vector.')\n",
    "        return Vector(self.x1, (self.x2[0]+v.x2[0]-v.x1[0], self.x2[1]+v.x2[1]-v.x1[1]))\n",
    "\n",
    "    def __sub__(self, v):\n",
    "        if type(v) != Vector:\n",
    "            raise ValueError('You can only add a Vector to a Vector.')\n",
    "        return Vector(self.x1, (self.x2[0]-(v.x2[0]-v.x1[0]), self.x2[1]-(v.x2[1]-v.x1[1])))\n",
    "    \n",
    "    def __len__(self):\n",
    "        '''\n",
    "        !! this does not make a lot of sense, since `len()` is required to return an integer.\n",
    "        -> also, it's intended to be used as an indicator for the number of elements in a sequence ..\n",
    "        '''\n",
    "        return int(self.length)\n",
    "      \n",
    "    def __mul__(self, k):\n",
    "        vec = self.dir_vec\n",
    "        uv = (vec[0]/self.length, vec[1]/self.length)\n",
    "        x20 = self.x1[0]+uv[0]*k*self.length\n",
    "        x21 = self.x1[1]+uv[1]*k*self.length\n",
    "        self.x2 = (x20, x21)\n",
    "        \n",
    "    @staticmethod\n",
    "    def norm(v):\n",
    "        '''Calculates the 2-norm of a 2d vector.\n",
    "        '''\n",
    "        return sqrt((v[0])**2 + (v[1])**2)\n",
    "    \n",
    "    @property\n",
    "    def length(self):\n",
    "        '''Returns the 2-norm of the objects vector.\n",
    "        '''\n",
    "        return self.norm((self.x2[0]-self.x1[0], self.x2[1]-self.x1[1]))\n",
    "    \n",
    "    @property\n",
    "    def polar_coords(self):\n",
    "        '''Returns starting and end point of the objects vector in polar coordinates.\n",
    "        '''\n",
    "        return self.cartesian_to_polar(self.x1), self.cartesian_to_polar(self.x2)\n",
    "    \n",
    "    @staticmethod\n",
    "    def cartesian_to_polar(v):\n",
    "        ''' '''\n",
    "        r = Vector.norm(v)\n",
    "        if r != 0:\n",
    "            try:\n",
    "                gamma = atan(v[1]/v[0])\n",
    "                # we have to cover the quadrants of the plane separately\n",
    "                if v[0] < 0 and v[1] > 0:\n",
    "                    gamma += pi\n",
    "                if v[0] < 0 and v[1] < 0:\n",
    "                    gamma += pi\n",
    "                if v[0] > 0 and v[1] < 0:\n",
    "                    gamma += 2*pi\n",
    "            except ZeroDivisionError:\n",
    "                if v[1] > 0:\n",
    "                    gamma = pi/2\n",
    "                else:\n",
    "                    gamma = 3*pi/3\n",
    "            return r, gamma\n",
    "        else:\n",
    "            return 0, 0\n",
    "    \n",
    "    @staticmethod\n",
    "    def polar_to_cartesian(v):\n",
    "        ''' '''\n",
    "        x = cos(v[1])*v[0]\n",
    "        y = sin(v[1])*v[0]\n",
    "        return x, y\n",
    "    \n",
    "    def rotate(self, alpha):\n",
    "        ''' '''\n",
    "        x1_, x2_ = self.polar_coords\n",
    "        if x1_[0] != 0:\n",
    "            x1__ = (x1_[0], x1_[1]+alpha)\n",
    "        else:\n",
    "            x1__ = x1_\n",
    "        if x2_[0] != 0:\n",
    "            x2__ = (x2_[0], x2_[1]+alpha)\n",
    "        else:\n",
    "            x2__ = x2_\n",
    "        self.x1 = self.polar_to_cartesian(x1__)\n",
    "        self.x2 = self.polar_to_cartesian(x2__)"
   ]
  },
  {
   "cell_type": "code",
   "execution_count": 6,
   "metadata": {
    "nbgrader": {
     "grade": true,
     "grade_id": "cell-c44a0a718360f798",
     "locked": false,
     "points": 0,
     "schema_version": 1,
     "solution": true
    },
    "run_control": {
     "marked": false
    }
   },
   "outputs": [
    {
     "data": {
      "image/png": "[encoded data removed]",
      "text/plain": [
       "<Figure size 360x360 with 1 Axes>"
      ]
     },
     "metadata": {},
     "output_type": "display_data"
    }
   ],
   "source": [
    "v = Vector((2, 2), (3, 3))\n",
    "fig, ax = v.plot()"
   ]
  },
  {
   "cell_type": "code",
   "execution_count": 7,
   "metadata": {},
   "outputs": [
    {
     "data": {
      "image/png": "[encoded data removed]",
      "text/plain": [
       "<Figure size 360x360 with 1 Axes>"
      ]
     },
     "metadata": {},
     "output_type": "display_data"
    }
   ],
   "source": [
    "x1_, x2_ = v.polar_coords\n",
    "v2 = Vector(Vector.polar_to_cartesian(x1_), Vector.polar_to_cartesian(x2_))\n",
    "fig, ax = v2.plot()"
   ]
  },
  {
   "cell_type": "code",
   "execution_count": 8,
   "metadata": {},
   "outputs": [
    {
     "data": {
      "image/png": "[encoded data removed]",
      "text/plain": [
       "<Figure size 360x360 with 1 Axes>"
      ]
     },
     "metadata": {},
     "output_type": "display_data"
    }
   ],
   "source": [
    "v.rotate(pi/2)\n",
    "fig, ax = v.plot()"
   ]
  },
  {
   "cell_type": "code",
   "execution_count": 9,
   "metadata": {},
   "outputs": [
    {
     "data": {
      "image/png": "[encoded data removed]",
      "text/plain": [
       "<Figure size 360x360 with 1 Axes>"
      ]
     },
     "metadata": {},
     "output_type": "display_data"
    }
   ],
   "source": [
    "v.rotate(pi/4)\n",
    "fig, ax = v.plot()"
   ]
  },
  {
   "cell_type": "code",
   "execution_count": 10,
   "metadata": {},
   "outputs": [
    {
     "name": "stdout",
     "output_type": "stream",
     "text": [
      "225.0\n"
     ]
    },
    {
     "data": {
      "image/png": "[encoded data removed]",
      "text/plain": [
       "<Figure size 360x360 with 1 Axes>"
      ]
     },
     "metadata": {},
     "output_type": "display_data"
    }
   ],
   "source": [
    "v.rotate(pi/4)\n",
    "print(v.polar_coords[1][1]/(2*pi)*360)\n",
    "fig, ax = v.plot()"
   ]
  },
  {
   "cell_type": "code",
   "execution_count": 11,
   "metadata": {},
   "outputs": [
    {
     "name": "stdout",
     "output_type": "stream",
     "text": [
      "315.0\n"
     ]
    },
    {
     "data": {
      "image/png": "[encoded data removed]",
      "text/plain": [
       "<Figure size 360x360 with 1 Axes>"
      ]
     },
     "metadata": {},
     "output_type": "display_data"
    }
   ],
   "source": [
    "v.rotate(pi/2)\n",
    "print(v.polar_coords[1][1]/(2*pi)*360)\n",
    "fig, ax = v.plot()"
   ]
  },
  {
   "cell_type": "code",
   "execution_count": 12,
   "metadata": {},
   "outputs": [
    {
     "name": "stdout",
     "output_type": "stream",
     "text": [
      "134.99999999999991\n"
     ]
    },
    {
     "data": {
      "image/png": "[encoded data removed]",
      "text/plain": [
       "<Figure size 360x360 with 1 Axes>"
      ]
     },
     "metadata": {},
     "output_type": "display_data"
    }
   ],
   "source": [
    "v.rotate(pi)\n",
    "print(v.polar_coords[1][1]/(2*pi)*360)\n",
    "fig, ax = v.plot()"
   ]
  },
  {
   "cell_type": "code",
   "execution_count": 13,
   "metadata": {},
   "outputs": [
    {
     "data": {
      "text/plain": [
       "(<Figure size 360x360 with 1 Axes>, <AxesSubplot:>)"
      ]
     },
     "execution_count": 13,
     "metadata": {},
     "output_type": "execute_result"
    },
    {
     "data": {
      "image/png": "[encoded data removed]",
      "text/plain": [
       "<Figure size 360x360 with 1 Axes>"
      ]
     },
     "metadata": {},
     "output_type": "display_data"
    }
   ],
   "source": [
    "v.plot()"
   ]
  },
  {
   "cell_type": "code",
   "execution_count": 14,
   "metadata": {},
   "outputs": [
    {
     "data": {
      "text/plain": [
       "(<Figure size 360x360 with 1 Axes>, <AxesSubplot:>)"
      ]
     },
     "execution_count": 14,
     "metadata": {},
     "output_type": "execute_result"
    },
    {
     "data": {
      "image/png": "[encoded data removed]",
      "text/plain": [
       "<Figure size 360x360 with 1 Axes>"
      ]
     },
     "metadata": {},
     "output_type": "display_data"
    }
   ],
   "source": [
    "v2.plot()"
   ]
  },
  {
   "cell_type": "code",
   "execution_count": 15,
   "metadata": {},
   "outputs": [
    {
     "data": {
      "text/plain": [
       "(<Figure size 360x360 with 1 Axes>, <AxesSubplot:>)"
      ]
     },
     "execution_count": 15,
     "metadata": {},
     "output_type": "execute_result"
    },
    {
     "data": {
      "image/png": "[encoded data removed]",
      "text/plain": [
       "<Figure size 360x360 with 1 Axes>"
      ]
     },
     "metadata": {},
     "output_type": "display_data"
    }
   ],
   "source": [
    "(v + v2).plot()"
   ]
  },
  {
   "cell_type": "code",
   "execution_count": 16,
   "metadata": {},
   "outputs": [
    {
     "data": {
      "text/plain": [
       "(<Figure size 360x360 with 1 Axes>, <AxesSubplot:>)"
      ]
     },
     "execution_count": 16,
     "metadata": {},
     "output_type": "execute_result"
    },
    {
     "data": {
      "image/png": "[encoded data removed]",
      "text/plain": [
       "<Figure size 360x360 with 1 Axes>"
      ]
     },
     "metadata": {},
     "output_type": "display_data"
    }
   ],
   "source": [
    "((v + v2) - v2).plot()"
   ]
  },
  {
   "cell_type": "markdown",
   "metadata": {
    "nbgrader": {
     "grade": false,
     "grade_id": "cell-db508f169b831c10",
     "locked": true,
     "schema_version": 1,
     "solution": false
    }
   },
   "source": [
    "### Aufgabe 3\n",
    "\n",
    "Schreiben sie eine *Generator Function* für die [Fibonacci-Folge](https://de.wikipedia.org/wiki/Fibonacci-Folge).  \n",
    "\n",
    "Geben Sie die ersten 100 Werte aus.  \n",
    "\n",
    "Vergleichen Sie die Eigenschaften der *Generator Function* mit denjenigen einer Funktion welche eine `list` zurückgibt.  \n",
    "\n",
    "Überlegen Sie sich was und wie Sie hier *profilen* könnten. "
   ]
  },
  {
   "cell_type": "code",
   "execution_count": 17,
   "metadata": {},
   "outputs": [],
   "source": [
    "def fib_gen(num_elements=100):\n",
    "    '''Computes the Fibonacci series as a generator function.\n",
    "    '''\n",
    "    it = 0\n",
    "    v2 = 0\n",
    "    v1 = 1\n",
    "    \n",
    "    yield v2\n",
    "    \n",
    "    while it < num_elements:\n",
    "        yield v1\n",
    "        tmp = v2\n",
    "        v2 = v1\n",
    "        v1 = tmp+v1\n",
    "        it += 1\n",
    "        \n",
    "        \n",
    "def fib_list(num_elements=100):\n",
    "    '''Computes the Fibonacci series as a generator function.\n",
    "    '''\n",
    "    fibs = [0, 1,]\n",
    "    \n",
    "    while len(fibs) < num_elements:\n",
    "        fibs.append(fibs[-2]+fibs[-1])\n",
    "        \n",
    "    return fibs"
   ]
  },
  {
   "cell_type": "code",
   "execution_count": 18,
   "metadata": {},
   "outputs": [],
   "source": [
    "def create_list():\n",
    "    return fib_list(1000)\n",
    "    \n",
    "def create_values():\n",
    "    for f in fib_gen(1000):\n",
    "        continue"
   ]
  },
  {
   "cell_type": "code",
   "execution_count": 19,
   "metadata": {},
   "outputs": [],
   "source": [
    "%load_ext memory_profiler"
   ]
  },
  {
   "cell_type": "code",
   "execution_count": 20,
   "metadata": {},
   "outputs": [
    {
     "name": "stdout",
     "output_type": "stream",
     "text": [
      "peak memory: 157.01 MiB, increment: 0.27 MiB\n"
     ]
    }
   ],
   "source": [
    "%memit create_values()"
   ]
  },
  {
   "cell_type": "code",
   "execution_count": 21,
   "metadata": {},
   "outputs": [
    {
     "name": "stdout",
     "output_type": "stream",
     "text": [
      "peak memory: 157.30 MiB, increment: 0.00 MiB\n"
     ]
    }
   ],
   "source": [
    "%memit l = create_list()"
   ]
  },
  {
   "cell_type": "code",
   "execution_count": 22,
   "metadata": {},
   "outputs": [
    {
     "name": "stdout",
     "output_type": "stream",
     "text": [
      "247 µs ± 1.88 µs per loop (mean ± std. dev. of 7 runs, 1000 loops each)\n"
     ]
    }
   ],
   "source": [
    "%timeit create_values()"
   ]
  },
  {
   "cell_type": "code",
   "execution_count": 23,
   "metadata": {},
   "outputs": [
    {
     "name": "stdout",
     "output_type": "stream",
     "text": [
      "231 µs ± 6.15 µs per loop (mean ± std. dev. of 7 runs, 1000 loops each)\n"
     ]
    }
   ],
   "source": [
    "%timeit create_list()"
   ]
  },
  {
   "cell_type": "markdown",
   "metadata": {
    "nbgrader": {
     "grade": false,
     "grade_id": "cell-334313f1cfb82edb",
     "locked": true,
     "schema_version": 1,
     "solution": false
    }
   },
   "source": [
    "### Aufgabe 4\n",
    "\n",
    "Schreiben sie eine *Generator Function* welche eine Datei öffnet, Zeile für Zeile durch die Datei hindurchschreitet, eine Operation auf der Zeile ausführt und das Resultat zurückgibt.  \n",
    "\n",
    "Beispiel: Sie öffnen *Shakespeare's* gesammelte Werke von `data/dsp/all-shakespeare.txt` und geben für jede Zeile auf welcher 'Romeo' steht Zeilenzahl und Anzahl Nennungen zurück. Sie könnten, die Funktion auch so schreiben, dass sie ein beliebiges Wort suchen können."
   ]
  },
  {
   "cell_type": "code",
   "execution_count": 24,
   "metadata": {},
   "outputs": [],
   "source": [
    "remove = ['.', '?', ',', '\\n', '\\t', '!', ';', '-', ':', \"'\", \"]\", \"[]\"]\n",
    "\n",
    "def count_words_per_line(document='/data/all-shakespeare.txt', word='Romeo'):\n",
    "    with open(document, 'r') as fid:\n",
    "        for lineno, line in enumerate(fid):\n",
    "            # compare lowercase words\n",
    "            if word.lower() in line.lower():\n",
    "                # remove 'special characters'\n",
    "                for c in remove:\n",
    "                    line = line.replace(c, \" \")\n",
    "                words = [w.lower() for w in line.rsplit()]\n",
    "                yield lineno, words.count(word.lower())"
   ]
  },
  {
   "cell_type": "code",
   "execution_count": 25,
   "metadata": {},
   "outputs": [],
   "source": [
    "romeo = list(count_words_per_line())"
   ]
  },
  {
   "cell_type": "code",
   "execution_count": 26,
   "metadata": {},
   "outputs": [
    {
     "data": {
      "text/plain": [
       "[(132919, 1),\n",
       " (132937, 1),\n",
       " (132939, 1),\n",
       " (132941, 1),\n",
       " (132951, 1),\n",
       " (132998, 1),\n",
       " (133021, 1),\n",
       " (133218, 1),\n",
       " (133264, 1),\n",
       " (133276, 1)]"
      ]
     },
     "execution_count": 26,
     "metadata": {},
     "output_type": "execute_result"
    }
   ],
   "source": [
    "romeo[:10]"
   ]
  },
  {
   "cell_type": "code",
   "execution_count": 27,
   "metadata": {},
   "outputs": [],
   "source": [
    "total = sum([n[1] for n in romeo])"
   ]
  },
  {
   "cell_type": "code",
   "execution_count": 28,
   "metadata": {},
   "outputs": [
    {
     "data": {
      "text/plain": [
       "340"
      ]
     },
     "execution_count": 28,
     "metadata": {},
     "output_type": "execute_result"
    }
   ],
   "source": [
    "total"
   ]
  },
  {
   "cell_type": "markdown",
   "metadata": {
    "nbgrader": {
     "grade": false,
     "grade_id": "cell-d97491c8dcfa3e63",
     "locked": true,
     "schema_version": 1,
     "solution": false
    }
   },
   "source": [
    "### Aufgabe 5\n",
    "\n",
    "Schreiben Sie einen *Decorator* mit Hilfe von [`functools`](https://docs.python.org/3.6/library/functools.html)`.wraps`, welcher es analog zum *Profiling Context Manager* im Skript erlaubt, die Zeit zu messen, welche ein Funktionsaufruf braucht, durch Dekoration mit `@profile`. "
   ]
  },
  {
   "cell_type": "code",
   "execution_count": 29,
   "metadata": {},
   "outputs": [],
   "source": [
    "from functools import wraps"
   ]
  },
  {
   "cell_type": "code",
   "execution_count": 30,
   "metadata": {},
   "outputs": [],
   "source": [
    "from datetime import datetime\n",
    "\n",
    "def profile(f):    \n",
    "    @wraps(f)\n",
    "    def wrapper(*args, **kwargs):\n",
    "        start = datetime.now()\n",
    "        result = f(*args, **kwargs)\n",
    "        dt = datetime.now() - start\n",
    "        print('Time used: {} s'.format(dt.total_seconds()))\n",
    "        return result    \n",
    "    return wrapper"
   ]
  },
  {
   "cell_type": "code",
   "execution_count": 31,
   "metadata": {},
   "outputs": [],
   "source": [
    "@profile\n",
    "def fibo(n):\n",
    "    return list(fib_gen(n))"
   ]
  },
  {
   "cell_type": "code",
   "execution_count": 32,
   "metadata": {},
   "outputs": [
    {
     "name": "stdout",
     "output_type": "stream",
     "text": [
      "Time used: 0.015077 s\n"
     ]
    }
   ],
   "source": [
    "f = fibo(10000)"
   ]
  },
  {
   "cell_type": "code",
   "execution_count": 33,
   "metadata": {},
   "outputs": [
    {
     "data": {
      "text/plain": [
       "True"
      ]
     },
     "execution_count": 33,
     "metadata": {},
     "output_type": "execute_result"
    }
   ],
   "source": [
    "f[-1] == f[-2]+f[-3]"
   ]
  }
 ],
 "metadata": {
  "celltoolbar": "Create Assignment",
  "kernelspec": {
   "display_name": "Python 3 (ipykernel)",
   "language": "python",
   "name": "python3"
  },
  "language_info": {
   "codemirror_mode": {
    "name": "ipython",
    "version": 3
   },
   "file_extension": ".py",
   "mimetype": "text/x-python",
   "name": "python",
   "nbconvert_exporter": "python",
   "pygments_lexer": "ipython3",
   "version": "3.9.6"
  },
  "widgets": {
   "state": {
    "dbc998941ccc427b90355fd1d11b0c07": {
     "views": [
      {
       "cell_index": 25
      }
     ]
    }
   },
   "version": "1.2.0"
  }
 },
 "nbformat": 4,
 "nbformat_minor": 4
}
