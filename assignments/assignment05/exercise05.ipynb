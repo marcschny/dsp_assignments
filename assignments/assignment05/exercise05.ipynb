{
 "cells": [
  {
   "cell_type": "markdown",
   "metadata": {
    "nbgrader": {
     "grade": false,
     "grade_id": "header",
     "locked": true,
     "schema_version": 1,
     "solution": false
    }
   },
   "source": [
    "# DSP - Aufgabenblatt 5\n",
    "#### FHNW HS2021"
   ]
  },
  {
   "cell_type": "markdown",
   "metadata": {
    "nbgrader": {
     "grade": false,
     "grade_id": "cell-66340a1a529a0ed8",
     "locked": true,
     "schema_version": 1,
     "solution": false
    }
   },
   "source": [
    "## *Numpy* - Vektorisierung"
   ]
  },
  {
   "cell_type": "markdown",
   "metadata": {},
   "source": [
    "Schreiben Sie, wo immer möglich und sinnvoll, für die Umsetzung der Aufgabenstellungen Funktionen. Führen Sie die Funktionen mittels `%timeit` aus. Versuchen Sie eine effiziente Implementierung zu finden."
   ]
  },
  {
   "cell_type": "markdown",
   "metadata": {},
   "source": [
    "### Aufgabe 1\n",
    "\n",
    "Finden Sie für den folgenden Code, welcher für einen Datensatz sämtliche Variabeln auf das Intervall 0 und 1 limitiert, eine effiziente, vektorisierte Schreibweise."
   ]
  },
  {
   "cell_type": "code",
   "execution_count": null,
   "metadata": {},
   "outputs": [],
   "source": [
    "def minmax_scaling(X):\n",
    "    ''' Scaling each feature to the range [0,1].\n",
    "    '''\n",
    "    min_, max_ = [], []\n",
    "    for x in X:\n",
    "        for idx, xi in enumerate(x):\n",
    "            if not len(min_) == len(x):\n",
    "                min_.append(xi)\n",
    "            if not len(max_) == len(x):\n",
    "                max_.append(xi)\n",
    "            if xi < min_[idx]:\n",
    "                min_[idx] = xi\n",
    "            if xi > max_[idx]:\n",
    "                max_[idx] = xi\n",
    "    \n",
    "    MM = []\n",
    "    for x in X:\n",
    "        mm = []\n",
    "        for idx, xi in enumerate(x):\n",
    "            mm.append((x[idx] - min_[idx])/(max_[idx] - min_[idx]))\n",
    "        MM.append(mm)\n",
    "\n",
    "    return np.array(MM)"
   ]
  },
  {
   "cell_type": "code",
   "execution_count": null,
   "metadata": {},
   "outputs": [],
   "source": [
    "X = np.random.randint(10, size=(100,100))"
   ]
  },
  {
   "cell_type": "code",
   "execution_count": null,
   "metadata": {},
   "outputs": [],
   "source": []
  },
  {
   "cell_type": "markdown",
   "metadata": {},
   "source": [
    "### Aufgabe 2\n",
    "\n",
    "Implementieren Sie [*k-Nearest-Neighbour*-Klassifikation](https://en.wikipedia.org/wiki/K-nearest_neighbors_algorithm).  \n",
    "\n",
    "Untersuchen Sie das Ergebnis am Iris-Datensatz.\n",
    "\n",
    "#### Hinweise\n",
    "\n",
    "- Paarweise Distanzen können mit `scipy.spatial.distance.cdist` berechnet werden.  \n",
    "- Mit `np.argmin` können sie den Index des kleinsten Werts eines Arrays zurückgeben lassen."
   ]
  },
  {
   "cell_type": "code",
   "execution_count": null,
   "metadata": {},
   "outputs": [],
   "source": [
    "import pandas as pd"
   ]
  },
  {
   "cell_type": "code",
   "execution_count": null,
   "metadata": {},
   "outputs": [],
   "source": [
    "df = pd.read_csv('../../data/iris_data.csv')"
   ]
  },
  {
   "cell_type": "code",
   "execution_count": null,
   "metadata": {},
   "outputs": [],
   "source": [
    "df.head()"
   ]
  },
  {
   "cell_type": "code",
   "execution_count": null,
   "metadata": {},
   "outputs": [],
   "source": [
    "sns.pairplot(df, hue='name', diag_kind='hist')"
   ]
  },
  {
   "cell_type": "code",
   "execution_count": null,
   "metadata": {},
   "outputs": [],
   "source": []
  },
  {
   "cell_type": "markdown",
   "metadata": {},
   "source": [
    "### Aufgabe 3\n",
    "\n",
    "Berechnen Sie von hundert 2-dimensional gleichverteilten Punkten $x = (x_1, x_2)$ aus dem Bereich $x_1 \\in [-4, 4]$ und $x_2 \\in [-4, 4]$ deren Koordinaten in Polarkoordinaten. Setzen Sie sämtliche Längen $r$ auf $1$. Berechnen Sie nun die Zwischenwinkel zwischen zwei auf dem Einheitskreis benachbarten Punkten.  \n",
    "\n",
    "Wie verhält sich der Mittelwert der Zwischenwinkel wenn sie die Anzahl Punkte verändern?  \n",
    "\n",
    "Was ist der Unterschied zum Szenario, wenn Sie mit Punkten gleichverteilt auf dem Einheitskreis beginnen?"
   ]
  },
  {
   "cell_type": "code",
   "execution_count": null,
   "metadata": {},
   "outputs": [],
   "source": []
  }
 ],
 "metadata": {
  "celltoolbar": "Create Assignment",
  "kernelspec": {
   "display_name": "Python 3 (ipykernel)",
   "language": "python",
   "name": "python3"
  },
  "language_info": {
   "codemirror_mode": {
    "name": "ipython",
    "version": 3
   },
   "file_extension": ".py",
   "mimetype": "text/x-python",
   "name": "python",
   "nbconvert_exporter": "python",
   "pygments_lexer": "ipython3",
   "version": "3.9.6"
  },
  "widgets": {
   "state": {
    "dbc998941ccc427b90355fd1d11b0c07": {
     "views": [
      {
       "cell_index": 25
      }
     ]
    }
   },
   "version": "1.2.0"
  }
 },
 "nbformat": 4,
 "nbformat_minor": 4
}
