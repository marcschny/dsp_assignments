{
 "cells": [
  {
   "cell_type": "markdown",
   "metadata": {
    "nbgrader": {
     "grade": false,
     "grade_id": "header",
     "locked": true,
     "schema_version": 1,
     "solution": false
    }
   },
   "source": [
    "# DSP - Aufgabenblatt 4\n",
    "#### FHNW - HS2021"
   ]
  },
  {
   "cell_type": "markdown",
   "metadata": {
    "nbgrader": {
     "grade": false,
     "grade_id": "cell-66340a1a529a0ed8",
     "locked": true,
     "schema_version": 1,
     "solution": false
    }
   },
   "source": [
    "## *NumPy*"
   ]
  },
  {
   "cell_type": "markdown",
   "metadata": {},
   "source": [
    "Schreiben Sie, wo immer möglich und sinnvoll, für die Umsetzung der Aufgabenstellungen Funktionen. Führen Sie die Funktionen mittels `%timeit` aus. Versuchen Sie eine effiziente Implementierung zu finden."
   ]
  },
  {
   "cell_type": "markdown",
   "metadata": {},
   "source": [
    "### Aufgabe 1 - Kurzaufgaben\n",
    "\n",
    "Erzeugen Sie für die folgenden Kurzaufgaben jeweils die notwendindigen *arrays*. Falls nicht genauer spezifiziert, erzuegen sie *arrays* mit ganzzahligen Zufallszahlen auf dem Intervall $[0, 9]$ mittels `np.random.randint`."
   ]
  },
  {
   "cell_type": "code",
   "execution_count": 1,
   "metadata": {},
   "outputs": [],
   "source": [
    "import numpy as np"
   ]
  },
  {
   "cell_type": "markdown",
   "metadata": {},
   "source": [
    "1. Erzeugen Sie einen Vektor der Länge 10, mit überall Nullen, ausser bei Index 5. Hier soll der Wert 5 sein."
   ]
  },
  {
   "cell_type": "code",
   "execution_count": null,
   "metadata": {},
   "outputs": [],
   "source": []
  },
  {
   "cell_type": "markdown",
   "metadata": {},
   "source": [
    "2. Drehen Sie die Reihenfolge der Elemente eines *arrays* um."
   ]
  },
  {
   "cell_type": "code",
   "execution_count": null,
   "metadata": {},
   "outputs": [],
   "source": []
  },
  {
   "cell_type": "markdown",
   "metadata": {},
   "source": [
    "3. Geben Sie den Index desjenigen Wertes eines *arrays* zurück, welcher einer zu wählenden Zahl am nächsten ist."
   ]
  },
  {
   "cell_type": "code",
   "execution_count": null,
   "metadata": {},
   "outputs": [],
   "source": []
  },
  {
   "cell_type": "markdown",
   "metadata": {},
   "source": [
    "4. Erzeugen Sie ein *array* der Grösse $(3 \\times 3)$ mit den Werten $[0, 8]$."
   ]
  },
  {
   "cell_type": "code",
   "execution_count": null,
   "metadata": {},
   "outputs": [],
   "source": []
  },
  {
   "cell_type": "markdown",
   "metadata": {},
   "source": [
    "5. Geben Sie den benötigten Speicherplatz eines *arrays* aus, sowie eines einzelnen Elements."
   ]
  },
  {
   "cell_type": "code",
   "execution_count": null,
   "metadata": {},
   "outputs": [],
   "source": []
  },
  {
   "cell_type": "markdown",
   "metadata": {},
   "source": [
    "6. Erzeugen Sie ein $(3 \\times 3 \\times 3)$ *array* mit gleichverteilten Zufallszahlen auf dem Intervall $[0, 5]$."
   ]
  },
  {
   "cell_type": "code",
   "execution_count": null,
   "metadata": {},
   "outputs": [],
   "source": []
  },
  {
   "cell_type": "markdown",
   "metadata": {},
   "source": [
    "7. Erzeugen Sie ein *array* der Grösse $(5 \\times 5)$ mit den Elementen $[1,2,3,4,]$ auf der ersten unteren Nebendiagonalen."
   ]
  },
  {
   "cell_type": "code",
   "execution_count": null,
   "metadata": {},
   "outputs": [],
   "source": []
  },
  {
   "cell_type": "markdown",
   "metadata": {},
   "source": [
    "8. Erzeugen Sie ein *array* der Grösse $(8 \\times 8)$ und füllen Sie es mit einem Schachrettmuster der Zahlen $[0, 1]$."
   ]
  },
  {
   "cell_type": "code",
   "execution_count": null,
   "metadata": {},
   "outputs": [],
   "source": []
  },
  {
   "cell_type": "markdown",
   "metadata": {},
   "source": [
    "9. Erzeugen Sie zwei *arrays* gleicher Grösse gefüllt mit ganzzahligen Zufallszahlen und finden Sie die Indices zu jenen Zellen, welche übereinstimmende Zahlen enthalten.  \n",
    "\n",
    "    Wie können Sie überprüfen, ob die *arrays* gleich sind?"
   ]
  },
  {
   "cell_type": "code",
   "execution_count": null,
   "metadata": {},
   "outputs": [],
   "source": []
  },
  {
   "cell_type": "markdown",
   "metadata": {},
   "source": [
    "10. Ziehen Sie den Mittelwert sämtlicher Spalten von den Elementen jener Spalte ab."
   ]
  },
  {
   "cell_type": "code",
   "execution_count": null,
   "metadata": {},
   "outputs": [],
   "source": []
  },
  {
   "cell_type": "markdown",
   "metadata": {},
   "source": [
    "11. Wie können Sie zwei Zeilen eines zwei-dimensionalen *arrays* vertauschen?"
   ]
  },
  {
   "cell_type": "code",
   "execution_count": null,
   "metadata": {},
   "outputs": [],
   "source": []
  },
  {
   "cell_type": "markdown",
   "metadata": {},
   "source": [
    "12. Wie können Sie den Wert eines *boolean arrays* negieren?"
   ]
  },
  {
   "cell_type": "code",
   "execution_count": null,
   "metadata": {},
   "outputs": [],
   "source": []
  },
  {
   "cell_type": "markdown",
   "metadata": {},
   "source": [
    "13. Berechnen Sie das Produkt eines Vektors mit einer Matrix, welche bloss $2$-en auf der Diagnolen hat.  \n",
    "    Messen Sie die Länge des Vektors vor und nach der Transformation. Was stellen Sie fest?"
   ]
  },
  {
   "cell_type": "code",
   "execution_count": null,
   "metadata": {},
   "outputs": [],
   "source": []
  }
 ],
 "metadata": {
  "celltoolbar": "Create Assignment",
  "kernelspec": {
   "display_name": "Python 3 (ipykernel)",
   "language": "python",
   "name": "python3"
  },
  "language_info": {
   "codemirror_mode": {
    "name": "ipython",
    "version": 3
   },
   "file_extension": ".py",
   "mimetype": "text/x-python",
   "name": "python",
   "nbconvert_exporter": "python",
   "pygments_lexer": "ipython3",
   "version": "3.9.6"
  },
  "widgets": {
   "state": {
    "dbc998941ccc427b90355fd1d11b0c07": {
     "views": [
      {
       "cell_index": 25
      }
     ]
    }
   },
   "version": "1.2.0"
  }
 },
 "nbformat": 4,
 "nbformat_minor": 4
}
